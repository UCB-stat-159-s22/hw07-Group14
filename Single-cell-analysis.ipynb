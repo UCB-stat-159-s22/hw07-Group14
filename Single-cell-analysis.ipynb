{
 "cells": [
  {
   "cell_type": "markdown",
   "id": "c68c5b23-59b5-46c2-a999-de30945f47f1",
   "metadata": {},
   "source": [
    "# Final Project STAT 259: Single Cell Sequencing Analysis"
   ]
  },
  {
   "cell_type": "code",
   "execution_count": 1,
   "id": "dad68832-674f-4dc6-b025-d6db513b99e2",
   "metadata": {},
   "outputs": [
    {
     "name": "stderr",
     "output_type": "stream",
     "text": [
      "2022-05-06 22:19:40.551989: W tensorflow/stream_executor/platform/default/dso_loader.cc:64] Could not load dynamic library 'libcudart.so.11.0'; dlerror: libcudart.so.11.0: cannot open shared object file: No such file or directory; LD_LIBRARY_PATH: :\n",
      "2022-05-06 22:19:40.552039: I tensorflow/stream_executor/cuda/cudart_stub.cc:29] Ignore above cudart dlerror if you do not have a GPU set up on your machine.\n"
     ]
    }
   ],
   "source": [
    "import pandas as pd\n",
    "import numpy as np\n",
    "import matplotlib.pyplot as plt\n",
    "import seaborn as sns\n",
    "import sklearn.metrics as metrics\n",
    "from sklearn.model_selection import train_test_split\n",
    "from sklearn.model_selection import StratifiedKFold\n",
    "from sklearn.decomposition import PCA\n",
    "from sklearn.manifold import TSNE\n",
    "from sklearn.preprocessing import StandardScaler\n",
    "import keras\n",
    "from keras import layers\n",
    "from keras import regularizers\n",
    "from keras.callbacks import EarlyStopping, ModelCheckpoint, ReduceLROnPlateau\n",
    "from keras.models import save_model, load_model"
   ]
  },
  {
   "cell_type": "markdown",
   "id": "2f07d069-de46-4312-a2a4-80c178dfb7c3",
   "metadata": {},
   "source": [
    "## Read data"
   ]
  },
  {
   "cell_type": "code",
   "execution_count": 2,
   "id": "fdeafe30-62bc-4804-b413-10fa7fb95d24",
   "metadata": {},
   "outputs": [],
   "source": [
    "def setup_data(name):\n",
    "    \"\"\"\n",
    "    ...\n",
    "    \"\"\"\n",
    "    file = f\"data/{name}-counts.csv\"\n",
    "    counts = pd.read_csv(file)\n",
    "    counts.rename(columns={'Unnamed: 0':'index'}, inplace=True)\n",
    "    counts.set_index(\"index\", inplace=True)\n",
    "    counts = counts.T\n",
    "    counts.insert(0, 'cell_label', name)\n",
    "    return counts"
   ]
  },
  {
   "cell_type": "code",
   "execution_count": 3,
   "id": "46adeeef-d393-4474-9036-b9edf2c31399",
   "metadata": {},
   "outputs": [],
   "source": [
    "organs = [\n",
    "    \"Kidney\",\n",
    "    \"Liver\",\n",
    "]"
   ]
  },
  {
   "cell_type": "code",
   "execution_count": 4,
   "id": "0f008627-21a1-4792-8e2f-1cec9cecf8bb",
   "metadata": {},
   "outputs": [],
   "source": [
    "assert len(organs) == 2"
   ]
  },
  {
   "cell_type": "markdown",
   "id": "462cdedf-ef9d-4b80-bf05-c4a3fd9d9761",
   "metadata": {},
   "source": [
    "## Feature filter"
   ]
  },
  {
   "cell_type": "code",
   "execution_count": 5,
   "id": "3ffa700c-3ab8-4805-a6d2-0c1744ed996e",
   "metadata": {},
   "outputs": [
    {
     "data": {
      "text/plain": [
       "(1846, 23434)"
      ]
     },
     "execution_count": 5,
     "metadata": {},
     "output_type": "execute_result"
    }
   ],
   "source": [
    "data = pd.DataFrame()\n",
    "for organ in organs:\n",
    "    data = data.append(setup_data(organ))\n",
    "data.shape"
   ]
  },
  {
   "cell_type": "code",
   "execution_count": 6,
   "id": "88095fbe-2ec2-4dc1-a927-968dfe5c694a",
   "metadata": {},
   "outputs": [
    {
     "data": {
      "text/plain": [
       "(1846, 18471)"
      ]
     },
     "execution_count": 6,
     "metadata": {},
     "output_type": "execute_result"
    }
   ],
   "source": [
    "# Remove gene counts with zero variance\n",
    "std = data.std(axis=0, numeric_only=True)\n",
    "final_features = list(std[std != 0].index)\n",
    "data = data[final_features + [\"cell_label\"]]\n",
    "data.shape"
   ]
  },
  {
   "cell_type": "code",
   "execution_count": 7,
   "id": "3177db82-0caf-4351-abb1-bce6ac8e57d1",
   "metadata": {},
   "outputs": [],
   "source": [
    "std = std[final_features]"
   ]
  },
  {
   "cell_type": "code",
   "execution_count": 8,
   "id": "4ad9ceed-c891-4ca0-96b4-d7ea36cf11b4",
   "metadata": {},
   "outputs": [],
   "source": [
    "mu = data.groupby(data[\"cell_label\"]).mean().T"
   ]
  },
  {
   "cell_type": "code",
   "execution_count": 9,
   "id": "40755b17-821c-4f23-ac19-cb3b524c952e",
   "metadata": {},
   "outputs": [
    {
     "data": {
      "text/plain": [
       "index\n",
       "Sepp1        0.781411\n",
       "Bhmt         0.750014\n",
       "Psen2        0.731537\n",
       "Gnmt         0.722756\n",
       "Cd302        0.717035\n",
       "Cdo1         0.709682\n",
       "Hpd          0.700787\n",
       "Fgl1         0.699458\n",
       "Arg1         0.693576\n",
       "Serpina1b    0.692899\n",
       "Tat          0.687784\n",
       "Serpina1a    0.685803\n",
       "Otc          0.683865\n",
       "Adh1         0.679625\n",
       "Fgb          0.674998\n",
       "Crp          0.672600\n",
       "Hmgcs2       0.671819\n",
       "Apoh         0.670908\n",
       "Fgg          0.670600\n",
       "Apoc3        0.669172\n",
       "dtype: float64"
      ]
     },
     "execution_count": 9,
     "metadata": {},
     "output_type": "execute_result"
    }
   ],
   "source": [
    "score = np.abs((mu[organs[0]] - mu[organs[1]])/std).sort_values(ascending=False)\n",
    "score.head(20)"
   ]
  },
  {
   "cell_type": "code",
   "execution_count": 10,
   "id": "7d438780-bc8c-425a-ba6f-30fc8bd0236c",
   "metadata": {},
   "outputs": [
    {
     "data": {
      "text/plain": [
       "(1846, 1001)"
      ]
     },
     "execution_count": 10,
     "metadata": {},
     "output_type": "execute_result"
    }
   ],
   "source": [
    "# Choose subset of gene counts\n",
    "num_genes = 1000\n",
    "selected_features = list(score.iloc[:num_genes].index)\n",
    "data = data[selected_features + [\"cell_label\"]]\n",
    "data.shape"
   ]
  },
  {
   "cell_type": "markdown",
   "id": "b1092948-5281-4ba2-9ca4-980b55554591",
   "metadata": {},
   "source": [
    "## Feature preprocessing"
   ]
  },
  {
   "cell_type": "code",
   "execution_count": 11,
   "id": "80782118-00a6-4560-8cdf-cea3998920d2",
   "metadata": {},
   "outputs": [],
   "source": [
    "data.iloc[:, :-1] = np.log(data.iloc[:,:-1] + 1)"
   ]
  },
  {
   "cell_type": "code",
   "execution_count": 12,
   "id": "32918ec5-898a-4c9e-a7bf-7f4946d064e5",
   "metadata": {},
   "outputs": [],
   "source": [
    "filepath = \"processed_data/data.csv\"\n",
    "data.to_csv(filepath, index=True)"
   ]
  },
  {
   "cell_type": "markdown",
   "id": "97bc47ea-cb1f-4965-8469-892e18ef0327",
   "metadata": {},
   "source": [
    "# Lower-dimension representation of the cells"
   ]
  },
  {
   "cell_type": "code",
   "execution_count": 13,
   "id": "bf2d3d04-f22a-4035-9b09-d891a3554b6e",
   "metadata": {},
   "outputs": [],
   "source": [
    "data = pd.read_csv(filepath, index_col=0)"
   ]
  },
  {
   "cell_type": "code",
   "execution_count": 14,
   "id": "c987f431-9272-4293-b939-39dc9727d2b0",
   "metadata": {},
   "outputs": [
    {
     "data": {
      "text/html": [
       "<div>\n",
       "<style scoped>\n",
       "    .dataframe tbody tr th:only-of-type {\n",
       "        vertical-align: middle;\n",
       "    }\n",
       "\n",
       "    .dataframe tbody tr th {\n",
       "        vertical-align: top;\n",
       "    }\n",
       "\n",
       "    .dataframe thead th {\n",
       "        text-align: right;\n",
       "    }\n",
       "</style>\n",
       "<table border=\"1\" class=\"dataframe\">\n",
       "  <thead>\n",
       "    <tr style=\"text-align: right;\">\n",
       "      <th></th>\n",
       "      <th>Sepp1</th>\n",
       "      <th>Bhmt</th>\n",
       "      <th>Psen2</th>\n",
       "      <th>Gnmt</th>\n",
       "      <th>Cd302</th>\n",
       "      <th>Cdo1</th>\n",
       "      <th>Hpd</th>\n",
       "      <th>Fgl1</th>\n",
       "      <th>Arg1</th>\n",
       "      <th>Serpina1b</th>\n",
       "      <th>...</th>\n",
       "      <th>Nop10</th>\n",
       "      <th>Alkbh5</th>\n",
       "      <th>Dhdh</th>\n",
       "      <th>Defb1</th>\n",
       "      <th>Aldob</th>\n",
       "      <th>Tgds</th>\n",
       "      <th>Cml1</th>\n",
       "      <th>Mrps24</th>\n",
       "      <th>Atf3</th>\n",
       "      <th>cell_label</th>\n",
       "    </tr>\n",
       "  </thead>\n",
       "  <tbody>\n",
       "    <tr>\n",
       "      <th>A14.MAA000545.3_8_M.1.1</th>\n",
       "      <td>5.105945</td>\n",
       "      <td>0.000000</td>\n",
       "      <td>0.000000</td>\n",
       "      <td>0.000000</td>\n",
       "      <td>0.000000</td>\n",
       "      <td>0.000000</td>\n",
       "      <td>0.000000</td>\n",
       "      <td>0.000000</td>\n",
       "      <td>0.000000</td>\n",
       "      <td>0.000000</td>\n",
       "      <td>...</td>\n",
       "      <td>0.000000</td>\n",
       "      <td>1.098612</td>\n",
       "      <td>0.000000</td>\n",
       "      <td>4.356709</td>\n",
       "      <td>0.000000</td>\n",
       "      <td>0.000000</td>\n",
       "      <td>0.000000</td>\n",
       "      <td>0.000000</td>\n",
       "      <td>0.000000</td>\n",
       "      <td>Kidney</td>\n",
       "    </tr>\n",
       "    <tr>\n",
       "      <th>E1.MAA000545.3_8_M.1.1</th>\n",
       "      <td>5.700444</td>\n",
       "      <td>0.000000</td>\n",
       "      <td>0.000000</td>\n",
       "      <td>0.000000</td>\n",
       "      <td>0.000000</td>\n",
       "      <td>0.000000</td>\n",
       "      <td>0.000000</td>\n",
       "      <td>0.000000</td>\n",
       "      <td>0.000000</td>\n",
       "      <td>0.000000</td>\n",
       "      <td>...</td>\n",
       "      <td>0.000000</td>\n",
       "      <td>0.000000</td>\n",
       "      <td>4.875197</td>\n",
       "      <td>0.000000</td>\n",
       "      <td>7.108244</td>\n",
       "      <td>0.000000</td>\n",
       "      <td>0.000000</td>\n",
       "      <td>0.000000</td>\n",
       "      <td>0.693147</td>\n",
       "      <td>Kidney</td>\n",
       "    </tr>\n",
       "    <tr>\n",
       "      <th>M4.MAA000545.3_8_M.1.1</th>\n",
       "      <td>2.639057</td>\n",
       "      <td>0.000000</td>\n",
       "      <td>0.000000</td>\n",
       "      <td>0.000000</td>\n",
       "      <td>0.000000</td>\n",
       "      <td>4.744932</td>\n",
       "      <td>0.000000</td>\n",
       "      <td>0.000000</td>\n",
       "      <td>0.000000</td>\n",
       "      <td>0.000000</td>\n",
       "      <td>...</td>\n",
       "      <td>0.000000</td>\n",
       "      <td>0.000000</td>\n",
       "      <td>0.000000</td>\n",
       "      <td>6.082219</td>\n",
       "      <td>0.000000</td>\n",
       "      <td>0.000000</td>\n",
       "      <td>0.000000</td>\n",
       "      <td>0.000000</td>\n",
       "      <td>0.000000</td>\n",
       "      <td>Kidney</td>\n",
       "    </tr>\n",
       "    <tr>\n",
       "      <th>O21.MAA000545.3_8_M.1.1</th>\n",
       "      <td>0.000000</td>\n",
       "      <td>0.000000</td>\n",
       "      <td>0.000000</td>\n",
       "      <td>0.000000</td>\n",
       "      <td>0.000000</td>\n",
       "      <td>0.000000</td>\n",
       "      <td>0.000000</td>\n",
       "      <td>0.000000</td>\n",
       "      <td>0.000000</td>\n",
       "      <td>0.000000</td>\n",
       "      <td>...</td>\n",
       "      <td>2.890372</td>\n",
       "      <td>0.000000</td>\n",
       "      <td>0.000000</td>\n",
       "      <td>3.526361</td>\n",
       "      <td>0.000000</td>\n",
       "      <td>0.000000</td>\n",
       "      <td>0.000000</td>\n",
       "      <td>0.000000</td>\n",
       "      <td>3.637586</td>\n",
       "      <td>Kidney</td>\n",
       "    </tr>\n",
       "    <tr>\n",
       "      <th>P4.MAA000545.3_8_M.1.1</th>\n",
       "      <td>6.175867</td>\n",
       "      <td>0.000000</td>\n",
       "      <td>0.000000</td>\n",
       "      <td>5.638355</td>\n",
       "      <td>2.639057</td>\n",
       "      <td>0.000000</td>\n",
       "      <td>0.000000</td>\n",
       "      <td>0.000000</td>\n",
       "      <td>0.000000</td>\n",
       "      <td>0.000000</td>\n",
       "      <td>...</td>\n",
       "      <td>0.000000</td>\n",
       "      <td>0.000000</td>\n",
       "      <td>0.000000</td>\n",
       "      <td>0.000000</td>\n",
       "      <td>8.063063</td>\n",
       "      <td>0.000000</td>\n",
       "      <td>0.000000</td>\n",
       "      <td>3.828641</td>\n",
       "      <td>0.000000</td>\n",
       "      <td>Kidney</td>\n",
       "    </tr>\n",
       "    <tr>\n",
       "      <th>...</th>\n",
       "      <td>...</td>\n",
       "      <td>...</td>\n",
       "      <td>...</td>\n",
       "      <td>...</td>\n",
       "      <td>...</td>\n",
       "      <td>...</td>\n",
       "      <td>...</td>\n",
       "      <td>...</td>\n",
       "      <td>...</td>\n",
       "      <td>...</td>\n",
       "      <td>...</td>\n",
       "      <td>...</td>\n",
       "      <td>...</td>\n",
       "      <td>...</td>\n",
       "      <td>...</td>\n",
       "      <td>...</td>\n",
       "      <td>...</td>\n",
       "      <td>...</td>\n",
       "      <td>...</td>\n",
       "      <td>...</td>\n",
       "      <td>...</td>\n",
       "    </tr>\n",
       "    <tr>\n",
       "      <th>C7.MAA100042.3_9_M.1.1</th>\n",
       "      <td>8.939712</td>\n",
       "      <td>7.624131</td>\n",
       "      <td>6.390241</td>\n",
       "      <td>8.744488</td>\n",
       "      <td>6.111467</td>\n",
       "      <td>6.177944</td>\n",
       "      <td>6.447306</td>\n",
       "      <td>4.836282</td>\n",
       "      <td>7.880426</td>\n",
       "      <td>9.179572</td>\n",
       "      <td>...</td>\n",
       "      <td>6.016157</td>\n",
       "      <td>3.135494</td>\n",
       "      <td>0.000000</td>\n",
       "      <td>0.000000</td>\n",
       "      <td>9.200795</td>\n",
       "      <td>4.110874</td>\n",
       "      <td>7.949797</td>\n",
       "      <td>5.572154</td>\n",
       "      <td>5.648974</td>\n",
       "      <td>Liver</td>\n",
       "    </tr>\n",
       "    <tr>\n",
       "      <th>A9.MAA100042.3_9_M.1.1</th>\n",
       "      <td>8.275631</td>\n",
       "      <td>7.848153</td>\n",
       "      <td>5.159055</td>\n",
       "      <td>8.014997</td>\n",
       "      <td>5.968708</td>\n",
       "      <td>4.454347</td>\n",
       "      <td>7.652071</td>\n",
       "      <td>3.496508</td>\n",
       "      <td>7.091742</td>\n",
       "      <td>8.744488</td>\n",
       "      <td>...</td>\n",
       "      <td>4.905275</td>\n",
       "      <td>3.332205</td>\n",
       "      <td>5.433722</td>\n",
       "      <td>0.000000</td>\n",
       "      <td>7.918629</td>\n",
       "      <td>0.693147</td>\n",
       "      <td>4.406719</td>\n",
       "      <td>5.978886</td>\n",
       "      <td>0.000000</td>\n",
       "      <td>Liver</td>\n",
       "    </tr>\n",
       "    <tr>\n",
       "      <th>C9.MAA100042.3_9_M.1.1</th>\n",
       "      <td>7.838738</td>\n",
       "      <td>7.412764</td>\n",
       "      <td>5.298317</td>\n",
       "      <td>7.422971</td>\n",
       "      <td>5.648974</td>\n",
       "      <td>6.700731</td>\n",
       "      <td>7.513164</td>\n",
       "      <td>5.117994</td>\n",
       "      <td>5.762051</td>\n",
       "      <td>7.859413</td>\n",
       "      <td>...</td>\n",
       "      <td>4.553877</td>\n",
       "      <td>1.945910</td>\n",
       "      <td>2.995732</td>\n",
       "      <td>0.000000</td>\n",
       "      <td>7.664347</td>\n",
       "      <td>3.828641</td>\n",
       "      <td>5.241747</td>\n",
       "      <td>4.905275</td>\n",
       "      <td>1.609438</td>\n",
       "      <td>Liver</td>\n",
       "    </tr>\n",
       "    <tr>\n",
       "      <th>A10.MAA100042.3_9_M.1.1</th>\n",
       "      <td>0.000000</td>\n",
       "      <td>0.000000</td>\n",
       "      <td>0.693147</td>\n",
       "      <td>0.000000</td>\n",
       "      <td>0.000000</td>\n",
       "      <td>1.098612</td>\n",
       "      <td>0.000000</td>\n",
       "      <td>0.693147</td>\n",
       "      <td>0.693147</td>\n",
       "      <td>1.791759</td>\n",
       "      <td>...</td>\n",
       "      <td>0.693147</td>\n",
       "      <td>0.000000</td>\n",
       "      <td>0.000000</td>\n",
       "      <td>0.000000</td>\n",
       "      <td>1.945910</td>\n",
       "      <td>0.000000</td>\n",
       "      <td>0.000000</td>\n",
       "      <td>0.000000</td>\n",
       "      <td>0.000000</td>\n",
       "      <td>Liver</td>\n",
       "    </tr>\n",
       "    <tr>\n",
       "      <th>C10.MAA100042.3_9_M.1.1</th>\n",
       "      <td>0.693147</td>\n",
       "      <td>0.000000</td>\n",
       "      <td>0.000000</td>\n",
       "      <td>0.000000</td>\n",
       "      <td>0.000000</td>\n",
       "      <td>0.000000</td>\n",
       "      <td>0.000000</td>\n",
       "      <td>0.693147</td>\n",
       "      <td>0.000000</td>\n",
       "      <td>0.000000</td>\n",
       "      <td>...</td>\n",
       "      <td>0.000000</td>\n",
       "      <td>0.000000</td>\n",
       "      <td>0.000000</td>\n",
       "      <td>0.000000</td>\n",
       "      <td>0.000000</td>\n",
       "      <td>0.000000</td>\n",
       "      <td>0.000000</td>\n",
       "      <td>0.000000</td>\n",
       "      <td>0.000000</td>\n",
       "      <td>Liver</td>\n",
       "    </tr>\n",
       "  </tbody>\n",
       "</table>\n",
       "<p>1846 rows × 1001 columns</p>\n",
       "</div>"
      ],
      "text/plain": [
       "                            Sepp1      Bhmt     Psen2      Gnmt     Cd302  \\\n",
       "A14.MAA000545.3_8_M.1.1  5.105945  0.000000  0.000000  0.000000  0.000000   \n",
       "E1.MAA000545.3_8_M.1.1   5.700444  0.000000  0.000000  0.000000  0.000000   \n",
       "M4.MAA000545.3_8_M.1.1   2.639057  0.000000  0.000000  0.000000  0.000000   \n",
       "O21.MAA000545.3_8_M.1.1  0.000000  0.000000  0.000000  0.000000  0.000000   \n",
       "P4.MAA000545.3_8_M.1.1   6.175867  0.000000  0.000000  5.638355  2.639057   \n",
       "...                           ...       ...       ...       ...       ...   \n",
       "C7.MAA100042.3_9_M.1.1   8.939712  7.624131  6.390241  8.744488  6.111467   \n",
       "A9.MAA100042.3_9_M.1.1   8.275631  7.848153  5.159055  8.014997  5.968708   \n",
       "C9.MAA100042.3_9_M.1.1   7.838738  7.412764  5.298317  7.422971  5.648974   \n",
       "A10.MAA100042.3_9_M.1.1  0.000000  0.000000  0.693147  0.000000  0.000000   \n",
       "C10.MAA100042.3_9_M.1.1  0.693147  0.000000  0.000000  0.000000  0.000000   \n",
       "\n",
       "                             Cdo1       Hpd      Fgl1      Arg1  Serpina1b  \\\n",
       "A14.MAA000545.3_8_M.1.1  0.000000  0.000000  0.000000  0.000000   0.000000   \n",
       "E1.MAA000545.3_8_M.1.1   0.000000  0.000000  0.000000  0.000000   0.000000   \n",
       "M4.MAA000545.3_8_M.1.1   4.744932  0.000000  0.000000  0.000000   0.000000   \n",
       "O21.MAA000545.3_8_M.1.1  0.000000  0.000000  0.000000  0.000000   0.000000   \n",
       "P4.MAA000545.3_8_M.1.1   0.000000  0.000000  0.000000  0.000000   0.000000   \n",
       "...                           ...       ...       ...       ...        ...   \n",
       "C7.MAA100042.3_9_M.1.1   6.177944  6.447306  4.836282  7.880426   9.179572   \n",
       "A9.MAA100042.3_9_M.1.1   4.454347  7.652071  3.496508  7.091742   8.744488   \n",
       "C9.MAA100042.3_9_M.1.1   6.700731  7.513164  5.117994  5.762051   7.859413   \n",
       "A10.MAA100042.3_9_M.1.1  1.098612  0.000000  0.693147  0.693147   1.791759   \n",
       "C10.MAA100042.3_9_M.1.1  0.000000  0.000000  0.693147  0.000000   0.000000   \n",
       "\n",
       "                         ...     Nop10    Alkbh5      Dhdh     Defb1  \\\n",
       "A14.MAA000545.3_8_M.1.1  ...  0.000000  1.098612  0.000000  4.356709   \n",
       "E1.MAA000545.3_8_M.1.1   ...  0.000000  0.000000  4.875197  0.000000   \n",
       "M4.MAA000545.3_8_M.1.1   ...  0.000000  0.000000  0.000000  6.082219   \n",
       "O21.MAA000545.3_8_M.1.1  ...  2.890372  0.000000  0.000000  3.526361   \n",
       "P4.MAA000545.3_8_M.1.1   ...  0.000000  0.000000  0.000000  0.000000   \n",
       "...                      ...       ...       ...       ...       ...   \n",
       "C7.MAA100042.3_9_M.1.1   ...  6.016157  3.135494  0.000000  0.000000   \n",
       "A9.MAA100042.3_9_M.1.1   ...  4.905275  3.332205  5.433722  0.000000   \n",
       "C9.MAA100042.3_9_M.1.1   ...  4.553877  1.945910  2.995732  0.000000   \n",
       "A10.MAA100042.3_9_M.1.1  ...  0.693147  0.000000  0.000000  0.000000   \n",
       "C10.MAA100042.3_9_M.1.1  ...  0.000000  0.000000  0.000000  0.000000   \n",
       "\n",
       "                            Aldob      Tgds      Cml1    Mrps24      Atf3  \\\n",
       "A14.MAA000545.3_8_M.1.1  0.000000  0.000000  0.000000  0.000000  0.000000   \n",
       "E1.MAA000545.3_8_M.1.1   7.108244  0.000000  0.000000  0.000000  0.693147   \n",
       "M4.MAA000545.3_8_M.1.1   0.000000  0.000000  0.000000  0.000000  0.000000   \n",
       "O21.MAA000545.3_8_M.1.1  0.000000  0.000000  0.000000  0.000000  3.637586   \n",
       "P4.MAA000545.3_8_M.1.1   8.063063  0.000000  0.000000  3.828641  0.000000   \n",
       "...                           ...       ...       ...       ...       ...   \n",
       "C7.MAA100042.3_9_M.1.1   9.200795  4.110874  7.949797  5.572154  5.648974   \n",
       "A9.MAA100042.3_9_M.1.1   7.918629  0.693147  4.406719  5.978886  0.000000   \n",
       "C9.MAA100042.3_9_M.1.1   7.664347  3.828641  5.241747  4.905275  1.609438   \n",
       "A10.MAA100042.3_9_M.1.1  1.945910  0.000000  0.000000  0.000000  0.000000   \n",
       "C10.MAA100042.3_9_M.1.1  0.000000  0.000000  0.000000  0.000000  0.000000   \n",
       "\n",
       "                         cell_label  \n",
       "A14.MAA000545.3_8_M.1.1      Kidney  \n",
       "E1.MAA000545.3_8_M.1.1       Kidney  \n",
       "M4.MAA000545.3_8_M.1.1       Kidney  \n",
       "O21.MAA000545.3_8_M.1.1      Kidney  \n",
       "P4.MAA000545.3_8_M.1.1       Kidney  \n",
       "...                             ...  \n",
       "C7.MAA100042.3_9_M.1.1        Liver  \n",
       "A9.MAA100042.3_9_M.1.1        Liver  \n",
       "C9.MAA100042.3_9_M.1.1        Liver  \n",
       "A10.MAA100042.3_9_M.1.1       Liver  \n",
       "C10.MAA100042.3_9_M.1.1       Liver  \n",
       "\n",
       "[1846 rows x 1001 columns]"
      ]
     },
     "execution_count": 14,
     "metadata": {},
     "output_type": "execute_result"
    }
   ],
   "source": [
    "data"
   ]
  },
  {
   "cell_type": "code",
   "execution_count": 15,
   "id": "144be133-261d-4d5d-a479-fdc51002c52e",
   "metadata": {},
   "outputs": [],
   "source": [
    "x = data.iloc[:, :-1]\n",
    "y = data.iloc[:, -1]"
   ]
  },
  {
   "cell_type": "code",
   "execution_count": 16,
   "id": "58f4d3b2-6c18-49f7-adca-45411ad6cb48",
   "metadata": {},
   "outputs": [
    {
     "data": {
      "text/html": [
       "<div>\n",
       "<style scoped>\n",
       "    .dataframe tbody tr th:only-of-type {\n",
       "        vertical-align: middle;\n",
       "    }\n",
       "\n",
       "    .dataframe tbody tr th {\n",
       "        vertical-align: top;\n",
       "    }\n",
       "\n",
       "    .dataframe thead th {\n",
       "        text-align: right;\n",
       "    }\n",
       "</style>\n",
       "<table border=\"1\" class=\"dataframe\">\n",
       "  <thead>\n",
       "    <tr style=\"text-align: right;\">\n",
       "      <th></th>\n",
       "      <th>Liver</th>\n",
       "      <th>Kidney</th>\n",
       "    </tr>\n",
       "  </thead>\n",
       "  <tbody>\n",
       "    <tr>\n",
       "      <th>A14.MAA000545.3_8_M.1.1</th>\n",
       "      <td>0</td>\n",
       "      <td>1</td>\n",
       "    </tr>\n",
       "    <tr>\n",
       "      <th>E1.MAA000545.3_8_M.1.1</th>\n",
       "      <td>0</td>\n",
       "      <td>1</td>\n",
       "    </tr>\n",
       "    <tr>\n",
       "      <th>M4.MAA000545.3_8_M.1.1</th>\n",
       "      <td>0</td>\n",
       "      <td>1</td>\n",
       "    </tr>\n",
       "    <tr>\n",
       "      <th>O21.MAA000545.3_8_M.1.1</th>\n",
       "      <td>0</td>\n",
       "      <td>1</td>\n",
       "    </tr>\n",
       "    <tr>\n",
       "      <th>P4.MAA000545.3_8_M.1.1</th>\n",
       "      <td>0</td>\n",
       "      <td>1</td>\n",
       "    </tr>\n",
       "  </tbody>\n",
       "</table>\n",
       "</div>"
      ],
      "text/plain": [
       "                         Liver  Kidney\n",
       "A14.MAA000545.3_8_M.1.1      0       1\n",
       "E1.MAA000545.3_8_M.1.1       0       1\n",
       "M4.MAA000545.3_8_M.1.1       0       1\n",
       "O21.MAA000545.3_8_M.1.1      0       1\n",
       "P4.MAA000545.3_8_M.1.1       0       1"
      ]
     },
     "execution_count": 16,
     "metadata": {},
     "output_type": "execute_result"
    }
   ],
   "source": [
    "# One hot encoding of y labels\n",
    "# Order chosen by proportions in sample and kept in y_labels\n",
    "y_hot = pd.get_dummies(y)\n",
    "y_labels = y_hot.mean(axis=0).sort_values(ascending=False).index\n",
    "y_hot = y_hot[y_labels]\n",
    "y_hot.head()"
   ]
  },
  {
   "cell_type": "code",
   "execution_count": 17,
   "id": "159ae403-2e51-4d6e-ab11-76ca8b6a946e",
   "metadata": {},
   "outputs": [],
   "source": [
    "# 80:20 split shuffling data\n",
    "x_train, x_test, y_train, y_test = train_test_split(x, y_hot, test_size=0.2, random_state=42, shuffle=True, stratify=y)"
   ]
  },
  {
   "cell_type": "code",
   "execution_count": 18,
   "id": "0453dcb2-4e5a-4ba8-b5bd-4eabba366cd7",
   "metadata": {},
   "outputs": [
    {
     "data": {
      "text/plain": [
       "((1846, 1000), (1476, 1000), (370, 1000))"
      ]
     },
     "execution_count": 18,
     "metadata": {},
     "output_type": "execute_result"
    }
   ],
   "source": [
    "# Shape validation for x\n",
    "x.shape, x_train.shape, x_test.shape"
   ]
  },
  {
   "cell_type": "code",
   "execution_count": 19,
   "id": "bca02ec2-e136-4bdc-b1d6-8af14ea1d6fe",
   "metadata": {},
   "outputs": [
    {
     "data": {
      "text/plain": [
       "((1846,), (1476, 2), (370, 2))"
      ]
     },
     "execution_count": 19,
     "metadata": {},
     "output_type": "execute_result"
    }
   ],
   "source": [
    "# Shape validation for y\n",
    "y.shape, y_train.shape, y_test.shape"
   ]
  },
  {
   "cell_type": "markdown",
   "id": "be911491-2e48-4d47-a4ad-a8191537c0a4",
   "metadata": {},
   "source": [
    "## Autoencoder"
   ]
  },
  {
   "cell_type": "code",
   "execution_count": 20,
   "id": "038913cb-216f-42ca-abbc-9393aa29ca47",
   "metadata": {},
   "outputs": [
    {
     "name": "stdout",
     "output_type": "stream",
     "text": [
      "Model: \"model\"\n",
      "_________________________________________________________________\n",
      " Layer (type)                Output Shape              Param #   \n",
      "=================================================================\n",
      " input_1 (InputLayer)        [(None, 1000)]            0         \n",
      "                                                                 \n",
      " dropout (Dropout)           (None, 1000)              0         \n",
      "                                                                 \n",
      " dense (Dense)               (None, 128)               128128    \n",
      "                                                                 \n",
      " dropout_1 (Dropout)         (None, 128)               0         \n",
      "                                                                 \n",
      " dense_1 (Dense)             (None, 32)                4128      \n",
      "                                                                 \n",
      " dropout_2 (Dropout)         (None, 32)                0         \n",
      "                                                                 \n",
      " dense_2 (Dense)             (None, 128)               4224      \n",
      "                                                                 \n",
      " dropout_3 (Dropout)         (None, 128)               0         \n",
      "                                                                 \n",
      " dense_3 (Dense)             (None, 1000)              129000    \n",
      "                                                                 \n",
      "=================================================================\n",
      "Total params: 265,480\n",
      "Trainable params: 265,480\n",
      "Non-trainable params: 0\n",
      "_________________________________________________________________\n"
     ]
    },
    {
     "name": "stderr",
     "output_type": "stream",
     "text": [
      "2022-05-06 22:19:54.842801: W tensorflow/stream_executor/platform/default/dso_loader.cc:64] Could not load dynamic library 'libcuda.so.1'; dlerror: libcuda.so.1: cannot open shared object file: No such file or directory; LD_LIBRARY_PATH: :\n",
      "2022-05-06 22:19:54.842907: W tensorflow/stream_executor/cuda/cuda_driver.cc:269] failed call to cuInit: UNKNOWN ERROR (303)\n",
      "2022-05-06 22:19:54.843014: I tensorflow/stream_executor/cuda/cuda_diagnostics.cc:156] kernel driver does not appear to be running on this host (jupyter-catalina-2evillouta): /proc/driver/nvidia/version does not exist\n",
      "2022-05-06 22:19:54.850921: I tensorflow/core/platform/cpu_feature_guard.cc:151] This TensorFlow binary is optimized with oneAPI Deep Neural Network Library (oneDNN) to use the following CPU instructions in performance-critical operations:  AVX2 FMA\n",
      "To enable them in other operations, rebuild TensorFlow with the appropriate compiler flags.\n"
     ]
    }
   ],
   "source": [
    "# Latent space of 32 dimensions\n",
    "# 1 hidden layer for encoder and one for decoder\n",
    "# L1 regularization used in fully connected layers\n",
    "# Encoder will be defined later after training\n",
    "\n",
    "encoding_dim = 32\n",
    "input_dim = x.shape[1]\n",
    "\n",
    "input_obj = keras.Input(shape=(input_dim,))\n",
    "dropout1 = layers.Dropout(.2)(input_obj)\n",
    "hidden1 = layers.Dense(128, activation='relu', \n",
    "                       activity_regularizer=regularizers.l1(10e-5))(dropout1)\n",
    "dropout2 = layers.Dropout(.2)(hidden1)\n",
    "encoded = layers.Dense(encoding_dim, activation='relu', \n",
    "                       activity_regularizer=regularizers.l1(10e-5))(dropout2)\n",
    "dropout3 = layers.Dropout(.2)(encoded)\n",
    "hidden2 = layers.Dense(128, activation='relu')(dropout3)\n",
    "dropout4 = layers.Dropout(.2)(hidden2)\n",
    "decoded = layers.Dense(input_dim, activation='sigmoid')(dropout4)\n",
    "\n",
    "autoencoder = keras.Model(input_obj, decoded)\n",
    "autoencoder.summary()"
   ]
  },
  {
   "cell_type": "code",
   "execution_count": 21,
   "id": "13de7127-aba5-42a1-9982-39a49eb03fe7",
   "metadata": {},
   "outputs": [],
   "source": [
    "# Configurations for improving training with the aim to reduce over-fitting \n",
    "# and also allow to seek for a lower bias model.\n",
    "# Reference: https://stackoverflow.com/questions/48285129/saving-best-model-in-keras\n",
    "earlyStopping = EarlyStopping(monitor='val_loss', patience=20, verbose=0, mode='min')\n",
    "mcp_save = ModelCheckpoint('models/autoencoder_best.hdf5', save_best_only=True, monitor='val_loss', mode='min')\n",
    "reduce_lr_loss = ReduceLROnPlateau(monitor='val_loss', factor=0.5, patience=10, verbose=0, min_delta=1e-4, mode='min')"
   ]
  },
  {
   "cell_type": "code",
   "execution_count": 22,
   "id": "8232757d-c56e-470e-97e3-cd5c1ad740b9",
   "metadata": {},
   "outputs": [
    {
     "data": {
      "text/plain": [
       "<keras.callbacks.History at 0x7fa9b6405460>"
      ]
     },
     "execution_count": 22,
     "metadata": {},
     "output_type": "execute_result"
    }
   ],
   "source": [
    "# Used MSE as loss\n",
    "autoencoder.compile(optimizer='adam', loss='mean_squared_error')\n",
    "\n",
    "autoencoder.fit(\n",
    "    x_train, x_train,\n",
    "    epochs=500,\n",
    "    batch_size=256,\n",
    "    shuffle=True,\n",
    "    validation_data=(x_test, x_test),\n",
    "    callbacks=[earlyStopping, mcp_save, reduce_lr_loss],\n",
    "    verbose=0,\n",
    ")"
   ]
  },
  {
   "cell_type": "code",
   "execution_count": 23,
   "id": "befd17a4-1c5d-412a-8357-5b91d6fa859d",
   "metadata": {},
   "outputs": [],
   "source": [
    "# Load best\n",
    "autoencoder = load_model('models/autoencoder_best.hdf5', compile=False)\n",
    "autoencoder.compile(optimizer='adam', loss='mean_squared_error')"
   ]
  },
  {
   "cell_type": "code",
   "execution_count": 24,
   "id": "7b32948e-5d42-4c66-bcbb-da2a16fa855d",
   "metadata": {},
   "outputs": [
    {
     "name": "stdout",
     "output_type": "stream",
     "text": [
      "12/12 [==============================] - 0s 3ms/step - loss: 4.7301\n"
     ]
    },
    {
     "data": {
      "text/plain": [
       "4.730064392089844"
      ]
     },
     "execution_count": 24,
     "metadata": {},
     "output_type": "execute_result"
    }
   ],
   "source": [
    "# Evaluate autoencoder performance\n",
    "autoencoder.evaluate(x_test, x_test)"
   ]
  },
  {
   "cell_type": "code",
   "execution_count": 25,
   "id": "b23ba8e0-fd14-494c-ac70-662dbaed7e4f",
   "metadata": {},
   "outputs": [
    {
     "name": "stdout",
     "output_type": "stream",
     "text": [
      "Model: \"model_1\"\n",
      "_________________________________________________________________\n",
      " Layer (type)                Output Shape              Param #   \n",
      "=================================================================\n",
      " input_1 (InputLayer)        [(None, 1000)]            0         \n",
      "                                                                 \n",
      " dropout (Dropout)           (None, 1000)              0         \n",
      "                                                                 \n",
      " dense (Dense)               (None, 128)               128128    \n",
      "                                                                 \n",
      " dropout_1 (Dropout)         (None, 128)               0         \n",
      "                                                                 \n",
      " dense_1 (Dense)             (None, 32)                4128      \n",
      "                                                                 \n",
      "=================================================================\n",
      "Total params: 132,256\n",
      "Trainable params: 132,256\n",
      "Non-trainable params: 0\n",
      "_________________________________________________________________\n"
     ]
    }
   ],
   "source": [
    "# Encoder\n",
    "encoder_output = autoencoder.layers[4].output\n",
    "encoder_input = autoencoder.input\n",
    "encoder = keras.Model(encoder_input, encoder_output)\n",
    "encoder.summary()"
   ]
  },
  {
   "cell_type": "code",
   "execution_count": 26,
   "id": "58acc1f1-9887-4805-8750-6e81b323de30",
   "metadata": {},
   "outputs": [],
   "source": [
    "# Save model\n",
    "encoder.compile(optimizer='adam', loss='mean_squared_error')\n",
    "save_model(encoder, 'models/encoder_best.hdf5', save_format='hdf5')"
   ]
  },
  {
   "cell_type": "code",
   "execution_count": 27,
   "id": "861dae0c-e7f5-4c14-a524-d4f7dbc254c7",
   "metadata": {},
   "outputs": [],
   "source": [
    "# PCA\n",
    "pca32 = PCA(n_components=32)\n",
    "x_pca = pca32.fit_transform(x)"
   ]
  },
  {
   "cell_type": "code",
   "execution_count": 28,
   "id": "42c78777-5217-474f-bde1-d8dc484d1040",
   "metadata": {},
   "outputs": [],
   "source": [
    "# t-SNE\n",
    "tsne2 = TSNE(n_components=2, learning_rate=200, init='random', method='exact')\n",
    "x_tsne2 = tsne2.fit_transform(x_pca)"
   ]
  },
  {
   "cell_type": "code",
   "execution_count": 29,
   "id": "5287e0ee-fc82-4078-9f05-60099aca001a",
   "metadata": {},
   "outputs": [
    {
     "data": {
      "text/plain": [
       "(1846, 32)"
      ]
     },
     "execution_count": 29,
     "metadata": {},
     "output_type": "execute_result"
    }
   ],
   "source": [
    "# Encoder used to get input data's latent variables\n",
    "x_encoded = encoder.predict(x)\n",
    "x_encoded.shape"
   ]
  },
  {
   "cell_type": "code",
   "execution_count": 30,
   "id": "feb4bed6-e0c5-4a1a-89be-d871304922d7",
   "metadata": {},
   "outputs": [],
   "source": [
    "# Encoder to 32 dim, then t-SNE to 2 dim\n",
    "x_encoded_tsne2 = tsne2.fit_transform(x_encoded)"
   ]
  },
  {
   "cell_type": "code",
   "execution_count": 31,
   "id": "ec789f89-ad8a-4ae8-8461-c477890da28c",
   "metadata": {},
   "outputs": [
    {
     "data": {
      "image/png": "[encoded data removed]",
      "text/plain": [
       "<Figure size 864x432 with 2 Axes>"
      ]
     },
     "metadata": {
      "needs_background": "light"
     },
     "output_type": "display_data"
    }
   ],
   "source": [
    "# Plot 2D representations\n",
    "ncols = 2\n",
    "fig, ax = plt.subplots(1, ncols, figsize=(12, 6))\n",
    "\n",
    "x_dict = {\n",
    "    'PCA': x_pca[:, :2],\n",
    "    #'t-SNE': x_tsne2,\n",
    "    'Autoencoder to 32 dim,\\nthen t-SNE to 2 dim': x_encoded_tsne2,\n",
    "}\n",
    "\n",
    "n = len(x_dict)\n",
    "\n",
    "for i, (title, x_plot) in enumerate(x_dict.items()):\n",
    "\n",
    "    col = i\n",
    "    ax_i = ax[col]\n",
    "\n",
    "    sns.scatterplot(\n",
    "        x=x_plot[:,0], y=x_plot[:,1],\n",
    "        hue=y,\n",
    "        palette=sns.color_palette(\"hls\", 2),\n",
    "        legend=\"full\",\n",
    "        alpha=0.75,\n",
    "        ax=ax_i)\n",
    "    if i == n - 1:\n",
    "        handles, labels = ax_i.get_legend_handles_labels()\n",
    "    ax_i.get_legend().remove()\n",
    "    ax_i.set_title(title)\n",
    "    ax_i.set_xlabel('Component 1')\n",
    "    if col == 0:\n",
    "        ax_i.set_ylabel('Component 2')\n",
    "\n",
    "fig.legend(handles, labels, bbox_to_anchor=(0.9, 0.4), loc='lower center', ncol=1)\n",
    "fig.tight_layout()\n",
    "fig.subplots_adjust(right=0.8)\n",
    "\n",
    "plt.savefig('figures/projection.jpg', format='jpg')\n",
    "plt.show()"
   ]
  },
  {
   "cell_type": "markdown",
   "id": "1e245554-fe07-4abb-83c2-671e7b30ba1c",
   "metadata": {},
   "source": [
    "# Classifier"
   ]
  },
  {
   "cell_type": "markdown",
   "id": "eeecfafc-a0f7-4f52-9caf-d6c5ffa83e81",
   "metadata": {},
   "source": [
    "## Cross Validation"
   ]
  },
  {
   "cell_type": "code",
   "execution_count": 32,
   "id": "d7cdedee-265d-41db-94d6-3ea4e6c0e679",
   "metadata": {},
   "outputs": [],
   "source": [
    "def initilize_supervised_model(size):\n",
    "    \"\"\"\n",
    "    - Loads trained encoder\n",
    "    - Adds layers according to size given (size in ['small', 'larger'])\n",
    "      for supervized learning set up (label prediction)\n",
    "    - Returns supervised model with untrained added layers\n",
    "      but first layers, coming from encoder, are trained already\n",
    "    \"\"\"\n",
    "\n",
    "    assert size in ['small', 'larger']\n",
    "\n",
    "    # Load encoder\n",
    "    encoder_load = load_model('models/encoder_best.hdf5', compile=False)\n",
    "\n",
    "    # Add layers\n",
    "    encoder_output = encoder_load.layers[-1].output\n",
    "    encoder_input = encoder_load.input\n",
    "    if size == 'small':\n",
    "        # Small model\n",
    "        dropout = layers.Dropout(.2)(encoder_output)\n",
    "        output = layers.Dense(2, activation='softmax')(dropout)\n",
    "        nn_model = keras.Model(encoder_input, output)\n",
    "    elif size == 'larger':\n",
    "        # Larger model\n",
    "        dropout_output1 = layers.Dropout(.2)(encoder_output)\n",
    "        dense_output1 = layers.Dense(16, activation='relu')(dropout_output1)\n",
    "        dropout_output2 = layers.Dropout(.2)(dense_output1)\n",
    "        output = layers.Dense(2, activation='softmax')(dropout_output2)\n",
    "        nn_model = keras.Model(encoder_input, output)\n",
    "\n",
    "    # Fix encoder parameters to avoid overfitting\n",
    "    idx_not_train = [1, 2, 3, 4]\n",
    "    for i in idx_not_train:\n",
    "        nn_model.layers[i].trainable = False\n",
    "\n",
    "    nn_model.compile(optimizer='adam', loss='categorical_crossentropy')\n",
    "\n",
    "    return nn_model"
   ]
  },
  {
   "cell_type": "code",
   "execution_count": 33,
   "id": "a37569d2-1e38-4d30-a9c8-9f5d35d40263",
   "metadata": {},
   "outputs": [
    {
     "name": "stdout",
     "output_type": "stream",
     "text": [
      "Model: \"model_2\"\n",
      "_________________________________________________________________\n",
      " Layer (type)                Output Shape              Param #   \n",
      "=================================================================\n",
      " input_1 (InputLayer)        [(None, 1000)]            0         \n",
      "                                                                 \n",
      " dropout (Dropout)           (None, 1000)              0         \n",
      "                                                                 \n",
      " dense (Dense)               (None, 128)               128128    \n",
      "                                                                 \n",
      " dropout_1 (Dropout)         (None, 128)               0         \n",
      "                                                                 \n",
      " dense_1 (Dense)             (None, 32)                4128      \n",
      "                                                                 \n",
      " dropout_4 (Dropout)         (None, 32)                0         \n",
      "                                                                 \n",
      " dense_4 (Dense)             (None, 2)                 66        \n",
      "                                                                 \n",
      "=================================================================\n",
      "Total params: 132,322\n",
      "Trainable params: 66\n",
      "Non-trainable params: 132,256\n",
      "_________________________________________________________________\n"
     ]
    }
   ],
   "source": [
    "# Small model quick validation\n",
    "nn_small = initilize_supervised_model('small')\n",
    "nn_small.summary()"
   ]
  },
  {
   "cell_type": "code",
   "execution_count": 34,
   "id": "7e431345-7ade-4453-b81f-7380f3804b03",
   "metadata": {},
   "outputs": [
    {
     "name": "stdout",
     "output_type": "stream",
     "text": [
      "Model: \"model_3\"\n",
      "_________________________________________________________________\n",
      " Layer (type)                Output Shape              Param #   \n",
      "=================================================================\n",
      " input_1 (InputLayer)        [(None, 1000)]            0         \n",
      "                                                                 \n",
      " dropout (Dropout)           (None, 1000)              0         \n",
      "                                                                 \n",
      " dense (Dense)               (None, 128)               128128    \n",
      "                                                                 \n",
      " dropout_1 (Dropout)         (None, 128)               0         \n",
      "                                                                 \n",
      " dense_1 (Dense)             (None, 32)                4128      \n",
      "                                                                 \n",
      " dropout_5 (Dropout)         (None, 32)                0         \n",
      "                                                                 \n",
      " dense_5 (Dense)             (None, 16)                528       \n",
      "                                                                 \n",
      " dropout_6 (Dropout)         (None, 16)                0         \n",
      "                                                                 \n",
      " dense_6 (Dense)             (None, 2)                 34        \n",
      "                                                                 \n",
      "=================================================================\n",
      "Total params: 132,818\n",
      "Trainable params: 562\n",
      "Non-trainable params: 132,256\n",
      "_________________________________________________________________\n"
     ]
    }
   ],
   "source": [
    "# Larger model quick validation\n",
    "nn_larger = initilize_supervised_model('larger')\n",
    "nn_larger.summary()"
   ]
  },
  {
   "cell_type": "code",
   "execution_count": 35,
   "id": "9940c707-3059-40f4-bfce-03a4c31713f7",
   "metadata": {},
   "outputs": [],
   "source": [
    "# Call backs\n",
    "\n",
    "# Early stopping\n",
    "earlyStopping = EarlyStopping(\n",
    "    monitor='val_loss', \n",
    "    patience=20, \n",
    "    verbose=0, \n",
    "    mode='min'\n",
    ")\n",
    "\n",
    "# Reduce learning rate on plateu\n",
    "reduce_lr_loss = ReduceLROnPlateau(\n",
    "    monitor='val_loss', \n",
    "    factor=0.5, \n",
    "    patience=10, \n",
    "    min_delta=1e-4, \n",
    "    mode='min',\n",
    "    verbose=0,\n",
    ")\n",
    "\n",
    "# Save best model by validation loss\n",
    "def mcp_save(size):\n",
    "    return ModelCheckpoint(\n",
    "      f\"models/nn_{size}_best.hdf5\", \n",
    "      save_best_only=True, \n",
    "      monitor='val_loss', \n",
    "      mode='min',\n",
    "    )"
   ]
  },
  {
   "cell_type": "code",
   "execution_count": 36,
   "id": "a1106d2a-dda7-4b85-a27f-ed752fc66492",
   "metadata": {},
   "outputs": [],
   "source": [
    "def compute_metrics(y_true, y_score, average='macro'):\n",
    "    assert y_true.shape == y_score.shape\n",
    "    y_ind_pred = np.argmax(y_score, axis=1)\n",
    "    y_ind_true = np.argmax(y_true, axis=1)\n",
    "    accuracy = metrics.accuracy_score(y_ind_true, y_ind_pred)\n",
    "    precision = metrics.precision_score(y_ind_true, y_ind_pred, average=average)\n",
    "    recall = metrics.recall_score(y_ind_true, y_ind_pred, average=average)\n",
    "    f1 = metrics.f1_score(y_ind_true, y_ind_pred, average=average)\n",
    "    roc_auc = metrics.roc_auc_score(y_true, y_score, average=average)\n",
    "    return {\n",
    "      \"accuracy\": accuracy,\n",
    "      \"precision\": precision,\n",
    "      \"recall\": recall,\n",
    "      \"f1\": f1,\n",
    "      \"roc_auc\": roc_auc,\n",
    "    }"
   ]
  },
  {
   "cell_type": "code",
   "execution_count": 37,
   "id": "79dbdee9-05ec-49d6-9a68-bd7953d0a2bb",
   "metadata": {},
   "outputs": [],
   "source": [
    "# Cross validation\n",
    "\n",
    "def nn_cross_validation(size, x, y, n_split=3):\n",
    "    \n",
    "    print(f\"Cross-validation for size = {size}\")\n",
    "\n",
    "    # Stratified k-fold is used\n",
    "    kfold = StratifiedKFold(n_split, shuffle=True, random_state=0)\n",
    "\n",
    "    # Reset index\n",
    "    xx = x.copy().reset_index(drop=True)\n",
    "    yy = y.copy().reset_index(drop=True)\n",
    "    yy_ind = np.argmax(yy.values, axis=1)\n",
    "\n",
    "    rows = []\n",
    "    for i, (train_index, test_index) in enumerate(kfold.split(xx, yy_ind)):\n",
    "\n",
    "        # Split\n",
    "        xx_train, xx_test = xx.loc[train_index], xx.loc[test_index]\n",
    "        yy_train, yy_test = yy.loc[train_index], yy.loc[test_index]\n",
    "\n",
    "        # Train and save model\n",
    "        nn_model = initilize_supervised_model(size)\n",
    "        nn_model.fit(\n",
    "            xx_train, yy_train,\n",
    "            epochs=500,\n",
    "            batch_size=256,\n",
    "            shuffle=True,\n",
    "            validation_data=(xx_test, yy_test),\n",
    "            callbacks=[earlyStopping, mcp_save(size), reduce_lr_loss],\n",
    "            verbose=0,\n",
    "        )\n",
    "\n",
    "        # Load best model\n",
    "        nn_model = load_model(f\"models/nn_{size}_best.hdf5\", compile=False)\n",
    "        nn_model.compile(optimizer='adam', loss='categorical_crossentropy')\n",
    "\n",
    "        # Assess performance\n",
    "        loss = nn_model.evaluate(xx_test, yy_test, verbose=0)\n",
    "        y_true = yy_test.values\n",
    "        y_score = nn_model.predict(xx_test)\n",
    "        row_dict = compute_metrics(y_true, y_score)\n",
    "        row_dict['categorical_crossentropy'] = loss\n",
    "        rows.append(row_dict)\n",
    "\n",
    "    # Collect performance results\n",
    "    results = pd.DataFrame.from_dict(rows, orient='columns')\n",
    "    results = results.reset_index().rename(columns={'index': 'fold'})\n",
    "\n",
    "    return results"
   ]
  },
  {
   "cell_type": "code",
   "execution_count": 38,
   "id": "393f9f87-4c76-4305-ae32-8a61d1d390eb",
   "metadata": {},
   "outputs": [
    {
     "name": "stdout",
     "output_type": "stream",
     "text": [
      "Cross-validation for size = small\n"
     ]
    },
    {
     "data": {
      "text/html": [
       "<div>\n",
       "<style scoped>\n",
       "    .dataframe tbody tr th:only-of-type {\n",
       "        vertical-align: middle;\n",
       "    }\n",
       "\n",
       "    .dataframe tbody tr th {\n",
       "        vertical-align: top;\n",
       "    }\n",
       "\n",
       "    .dataframe thead th {\n",
       "        text-align: right;\n",
       "    }\n",
       "</style>\n",
       "<table border=\"1\" class=\"dataframe\">\n",
       "  <thead>\n",
       "    <tr style=\"text-align: right;\">\n",
       "      <th></th>\n",
       "      <th>fold</th>\n",
       "      <th>accuracy</th>\n",
       "      <th>precision</th>\n",
       "      <th>recall</th>\n",
       "      <th>f1</th>\n",
       "      <th>roc_auc</th>\n",
       "      <th>categorical_crossentropy</th>\n",
       "    </tr>\n",
       "  </thead>\n",
       "  <tbody>\n",
       "    <tr>\n",
       "      <th>0</th>\n",
       "      <td>0</td>\n",
       "      <td>0.941057</td>\n",
       "      <td>0.940531</td>\n",
       "      <td>0.941708</td>\n",
       "      <td>0.940928</td>\n",
       "      <td>0.990098</td>\n",
       "      <td>0.167233</td>\n",
       "    </tr>\n",
       "    <tr>\n",
       "      <th>1</th>\n",
       "      <td>1</td>\n",
       "      <td>0.949187</td>\n",
       "      <td>0.949104</td>\n",
       "      <td>0.948873</td>\n",
       "      <td>0.948984</td>\n",
       "      <td>0.988738</td>\n",
       "      <td>0.190427</td>\n",
       "    </tr>\n",
       "    <tr>\n",
       "      <th>2</th>\n",
       "      <td>2</td>\n",
       "      <td>0.922764</td>\n",
       "      <td>0.922140</td>\n",
       "      <td>0.923233</td>\n",
       "      <td>0.922548</td>\n",
       "      <td>0.986691</td>\n",
       "      <td>0.170961</td>\n",
       "    </tr>\n",
       "  </tbody>\n",
       "</table>\n",
       "</div>"
      ],
      "text/plain": [
       "   fold  accuracy  precision    recall        f1   roc_auc  \\\n",
       "0     0  0.941057   0.940531  0.941708  0.940928  0.990098   \n",
       "1     1  0.949187   0.949104  0.948873  0.948984  0.988738   \n",
       "2     2  0.922764   0.922140  0.923233  0.922548  0.986691   \n",
       "\n",
       "   categorical_crossentropy  \n",
       "0                  0.167233  \n",
       "1                  0.190427  \n",
       "2                  0.170961  "
      ]
     },
     "execution_count": 38,
     "metadata": {},
     "output_type": "execute_result"
    }
   ],
   "source": [
    "# Cross-validation results for small model: folds details\n",
    "res_cv_small = nn_cross_validation(\"small\", x_train, y_train)\n",
    "res_cv_small"
   ]
  },
  {
   "cell_type": "code",
   "execution_count": 39,
   "id": "d44d501b-78bd-4205-9c86-690656845f12",
   "metadata": {},
   "outputs": [
    {
     "name": "stdout",
     "output_type": "stream",
     "text": [
      "Cross-validation for size = larger\n"
     ]
    },
    {
     "data": {
      "text/html": [
       "<div>\n",
       "<style scoped>\n",
       "    .dataframe tbody tr th:only-of-type {\n",
       "        vertical-align: middle;\n",
       "    }\n",
       "\n",
       "    .dataframe tbody tr th {\n",
       "        vertical-align: top;\n",
       "    }\n",
       "\n",
       "    .dataframe thead th {\n",
       "        text-align: right;\n",
       "    }\n",
       "</style>\n",
       "<table border=\"1\" class=\"dataframe\">\n",
       "  <thead>\n",
       "    <tr style=\"text-align: right;\">\n",
       "      <th></th>\n",
       "      <th>fold</th>\n",
       "      <th>accuracy</th>\n",
       "      <th>precision</th>\n",
       "      <th>recall</th>\n",
       "      <th>f1</th>\n",
       "      <th>roc_auc</th>\n",
       "      <th>categorical_crossentropy</th>\n",
       "    </tr>\n",
       "  </thead>\n",
       "  <tbody>\n",
       "    <tr>\n",
       "      <th>0</th>\n",
       "      <td>0</td>\n",
       "      <td>0.936992</td>\n",
       "      <td>0.936773</td>\n",
       "      <td>0.938374</td>\n",
       "      <td>0.936917</td>\n",
       "      <td>0.991806</td>\n",
       "      <td>0.156335</td>\n",
       "    </tr>\n",
       "    <tr>\n",
       "      <th>1</th>\n",
       "      <td>1</td>\n",
       "      <td>0.973577</td>\n",
       "      <td>0.973884</td>\n",
       "      <td>0.973105</td>\n",
       "      <td>0.973458</td>\n",
       "      <td>0.992851</td>\n",
       "      <td>0.159683</td>\n",
       "    </tr>\n",
       "    <tr>\n",
       "      <th>2</th>\n",
       "      <td>2</td>\n",
       "      <td>0.941057</td>\n",
       "      <td>0.940569</td>\n",
       "      <td>0.941205</td>\n",
       "      <td>0.940851</td>\n",
       "      <td>0.992234</td>\n",
       "      <td>0.157074</td>\n",
       "    </tr>\n",
       "  </tbody>\n",
       "</table>\n",
       "</div>"
      ],
      "text/plain": [
       "   fold  accuracy  precision    recall        f1   roc_auc  \\\n",
       "0     0  0.936992   0.936773  0.938374  0.936917  0.991806   \n",
       "1     1  0.973577   0.973884  0.973105  0.973458  0.992851   \n",
       "2     2  0.941057   0.940569  0.941205  0.940851  0.992234   \n",
       "\n",
       "   categorical_crossentropy  \n",
       "0                  0.156335  \n",
       "1                  0.159683  \n",
       "2                  0.157074  "
      ]
     },
     "execution_count": 39,
     "metadata": {},
     "output_type": "execute_result"
    }
   ],
   "source": [
    "# Cross-validation results for larger model: folds details\n",
    "res_cv_larger = nn_cross_validation(\"larger\", x_train, y_train)\n",
    "res_cv_larger"
   ]
  },
  {
   "cell_type": "code",
   "execution_count": 40,
   "id": "362bd2ac-738a-4ea6-bce5-c53d9b3b2139",
   "metadata": {},
   "outputs": [
    {
     "data": {
      "text/html": [
       "<div>\n",
       "<style scoped>\n",
       "    .dataframe tbody tr th:only-of-type {\n",
       "        vertical-align: middle;\n",
       "    }\n",
       "\n",
       "    .dataframe tbody tr th {\n",
       "        vertical-align: top;\n",
       "    }\n",
       "\n",
       "    .dataframe thead th {\n",
       "        text-align: right;\n",
       "    }\n",
       "</style>\n",
       "<table border=\"1\" class=\"dataframe\">\n",
       "  <thead>\n",
       "    <tr style=\"text-align: right;\">\n",
       "      <th></th>\n",
       "      <th>accuracy</th>\n",
       "      <th>precision</th>\n",
       "      <th>recall</th>\n",
       "      <th>f1</th>\n",
       "      <th>roc_auc</th>\n",
       "      <th>categorical_crossentropy</th>\n",
       "    </tr>\n",
       "  </thead>\n",
       "  <tbody>\n",
       "    <tr>\n",
       "      <th>small</th>\n",
       "      <td>0.938</td>\n",
       "      <td>0.937</td>\n",
       "      <td>0.938</td>\n",
       "      <td>0.937</td>\n",
       "      <td>0.989</td>\n",
       "      <td>0.176</td>\n",
       "    </tr>\n",
       "    <tr>\n",
       "      <th>larger</th>\n",
       "      <td>0.951</td>\n",
       "      <td>0.950</td>\n",
       "      <td>0.951</td>\n",
       "      <td>0.950</td>\n",
       "      <td>0.992</td>\n",
       "      <td>0.158</td>\n",
       "    </tr>\n",
       "  </tbody>\n",
       "</table>\n",
       "</div>"
      ],
      "text/plain": [
       "        accuracy  precision  recall     f1  roc_auc  categorical_crossentropy\n",
       "small      0.938      0.937   0.938  0.937    0.989                     0.176\n",
       "larger     0.951      0.950   0.951  0.950    0.992                     0.158"
      ]
     },
     "execution_count": 40,
     "metadata": {},
     "output_type": "execute_result"
    }
   ],
   "source": [
    "# Cross-validation aggregated results for both models\n",
    "res_cv = pd.concat((res_cv_small.iloc[:,1:].mean(axis=0), res_cv_larger.iloc[:,1:].mean(axis=0)), axis=1).T.round(3)\n",
    "res_cv.index = ['small', 'larger']\n",
    "res_cv"
   ]
  },
  {
   "cell_type": "markdown",
   "id": "e59e8a55-547b-486e-bf97-b9c9c1c5a1c2",
   "metadata": {},
   "source": [
    "## Test Performance"
   ]
  },
  {
   "cell_type": "code",
   "execution_count": 41,
   "id": "d04ff29c-3e21-4cef-8d26-8958f5946ec9",
   "metadata": {},
   "outputs": [],
   "source": [
    "def plot_roc_curve(name, y_true, y_score, indices, filename=None, extension=None):\n",
    "\n",
    "    plt.figure(figsize=(10, 7))\n",
    "\n",
    "    # Compute and plot fpr and tpr per selected labels/indices\n",
    "    for ind in indices:\n",
    "        y_score_ind = y_score[:, ind]\n",
    "        y_true_ind = y_true == ind\n",
    "        fpr, tpr, threshold = metrics.roc_curve(y_true_ind, y_score_ind)\n",
    "        roc_auc = metrics.auc(fpr, tpr)\n",
    "        plt.plot(fpr, tpr, label = f\"{y_labels[ind]} (AUC={roc_auc:.2f})\")\n",
    "\n",
    "    if name:\n",
    "        plt.title(f'Receiver Operating Characteristic {name}')\n",
    "    plt.legend(loc='lower right')\n",
    "    plt.plot([0, 1], [0, 1], 'r--')\n",
    "    plt.xlim([0, 1])\n",
    "    plt.ylim([0, 1])\n",
    "    plt.ylabel('True Positive Rate')\n",
    "    plt.xlabel('False Positive Rate')\n",
    "    if filename:\n",
    "        plt.savefig(f'figures/{filename}.{extension}', format=extension)\n",
    "    plt.show()"
   ]
  },
  {
   "cell_type": "code",
   "execution_count": 42,
   "id": "d78f7391-e0f9-4db9-9bf4-9b44d7b686d2",
   "metadata": {},
   "outputs": [],
   "source": [
    "# Load last model trained in cross-validation\n",
    "# Training needs a validation set so any fold model is OK\n",
    "nn_small = load_model(f\"models/nn_small_best.hdf5\", compile=False)\n",
    "nn_larger = load_model(f\"models/nn_larger_best.hdf5\", compile=False)\n",
    "nn_small.compile(optimizer='adam', loss='categorical_crossentropy')\n",
    "nn_larger.compile(optimizer='adam', loss='categorical_crossentropy')"
   ]
  },
  {
   "cell_type": "code",
   "execution_count": 43,
   "id": "33481c90-2879-4b4c-ab97-56145d27dea3",
   "metadata": {},
   "outputs": [],
   "source": [
    "# Truth and predictions\n",
    "y_true = y_test.values\n",
    "y_true_ind = np.argmax(y_true, axis=1)\n",
    "y_score_small = nn_small.predict(x_test)\n",
    "y_score_larger = nn_larger.predict(x_test)"
   ]
  },
  {
   "cell_type": "code",
   "execution_count": 44,
   "id": "0e266118-6176-460d-985c-a9994205372d",
   "metadata": {},
   "outputs": [],
   "source": [
    "# Confusion matrix\n",
    "conf_matrix_small = metrics.confusion_matrix(y_true_ind, np.argmax(y_score_small, axis=1))\n",
    "conf_matrix_larger = metrics.confusion_matrix(y_true_ind, np.argmax(y_score_larger, axis=1))"
   ]
  },
  {
   "cell_type": "code",
   "execution_count": 45,
   "id": "6b97502b-1450-4937-be75-99c1d8ca088e",
   "metadata": {},
   "outputs": [],
   "source": [
    "def plot_confusion_matrix(name, conf_matrix, filename=None, extension=None):\n",
    "    plt.figure(figsize=(8, 6))\n",
    "    sns.heatmap(conf_matrix, cmap='Blues', annot=True, yticklabels=y_labels, xticklabels=y_labels)\n",
    "    if name:\n",
    "        plt.title(f\"Confusion Matrix {name}\")\n",
    "    plt.xlabel(\"Predicted\", fontsize=13)\n",
    "    plt.ylabel(\"Actual\", fontsize=13)\n",
    "    if filename:\n",
    "        plt.savefig(f'figures/{filename}.{extension}', format=extension)\n",
    "    plt.show()"
   ]
  },
  {
   "cell_type": "code",
   "execution_count": 46,
   "id": "817620ce-fa38-4099-a111-f41fd64a9163",
   "metadata": {},
   "outputs": [
    {
     "data": {
      "image/png": "[encoded data removed]",
      "text/plain": [
       "<Figure size 576x432 with 2 Axes>"
      ]
     },
     "metadata": {
      "needs_background": "light"
     },
     "output_type": "display_data"
    }
   ],
   "source": [
    "# Confusion matrix small model\n",
    "plot_confusion_matrix(None, \n",
    "                      conf_matrix_small, \n",
    "                      'confusion_matrix_small',\n",
    "                      'jpg')"
   ]
  },
  {
   "cell_type": "code",
   "execution_count": 47,
   "id": "e41ca9d8-6dc2-4d58-ba20-edb7370a4d23",
   "metadata": {},
   "outputs": [
    {
     "data": {
      "image/png": "[encoded data removed]",
      "text/plain": [
       "<Figure size 576x432 with 2 Axes>"
      ]
     },
     "metadata": {
      "needs_background": "light"
     },
     "output_type": "display_data"
    }
   ],
   "source": [
    "# Confusion matrix larger model\n",
    "plot_confusion_matrix(None, \n",
    "                      conf_matrix_larger, \n",
    "                      'confusion_matrix_larger',\n",
    "                      'jpg')"
   ]
  },
  {
   "cell_type": "code",
   "execution_count": 48,
   "id": "ea43fc90-e917-46c9-ab57-34780e2233ed",
   "metadata": {},
   "outputs": [
    {
     "data": {
      "text/html": [
       "<div>\n",
       "<style scoped>\n",
       "    .dataframe tbody tr th:only-of-type {\n",
       "        vertical-align: middle;\n",
       "    }\n",
       "\n",
       "    .dataframe tbody tr th {\n",
       "        vertical-align: top;\n",
       "    }\n",
       "\n",
       "    .dataframe thead th {\n",
       "        text-align: right;\n",
       "    }\n",
       "</style>\n",
       "<table border=\"1\" class=\"dataframe\">\n",
       "  <thead>\n",
       "    <tr style=\"text-align: right;\">\n",
       "      <th></th>\n",
       "      <th>accuracy</th>\n",
       "      <th>precision</th>\n",
       "      <th>recall</th>\n",
       "      <th>f1</th>\n",
       "      <th>roc_auc</th>\n",
       "    </tr>\n",
       "  </thead>\n",
       "  <tbody>\n",
       "    <tr>\n",
       "      <th>small</th>\n",
       "      <td>0.905</td>\n",
       "      <td>0.905</td>\n",
       "      <td>0.906</td>\n",
       "      <td>0.905</td>\n",
       "      <td>0.980</td>\n",
       "    </tr>\n",
       "    <tr>\n",
       "      <th>larger</th>\n",
       "      <td>0.941</td>\n",
       "      <td>0.940</td>\n",
       "      <td>0.941</td>\n",
       "      <td>0.940</td>\n",
       "      <td>0.988</td>\n",
       "    </tr>\n",
       "  </tbody>\n",
       "</table>\n",
       "</div>"
      ],
      "text/plain": [
       "        accuracy  precision  recall     f1  roc_auc\n",
       "small      0.905      0.905   0.906  0.905    0.980\n",
       "larger     0.941      0.940   0.941  0.940    0.988"
      ]
     },
     "execution_count": 48,
     "metadata": {},
     "output_type": "execute_result"
    }
   ],
   "source": [
    "# Performance on test set\n",
    "metrics_small = compute_metrics(y_true, y_score_small)\n",
    "metrics_larger = compute_metrics(y_true, y_score_larger)\n",
    "res = pd.DataFrame.from_dict([metrics_small, metrics_larger], \n",
    "                             orient='columns').round(3)\n",
    "res.index = ['small', 'larger']\n",
    "res"
   ]
  },
  {
   "cell_type": "code",
   "execution_count": 49,
   "id": "fda5ca04-53f6-4726-a902-51526caa0487",
   "metadata": {},
   "outputs": [
    {
     "data": {
      "text/plain": [
       "Kidney    0.468581\n",
       "Liver     0.531419\n",
       "dtype: float64"
      ]
     },
     "metadata": {},
     "output_type": "display_data"
    },
    {
     "name": "stdout",
     "output_type": "stream",
     "text": [
      "Indices to plot: [0, 1]\n"
     ]
    }
   ],
   "source": [
    "# Plot ROC curve\n",
    "prop_min=0.05\n",
    "label_prop = y_hot.mean(axis=0).reindex(labels)\n",
    "indices = [ind for ind in range(len(labels)) if label_prop.iloc[ind] >= prop_min]\n",
    "display(label_prop)\n",
    "print(f\"Indices to plot: {indices}\")"
   ]
  },
  {
   "cell_type": "code",
   "execution_count": 50,
   "id": "0279dad1-79b3-4c6f-af85-e65db1449110",
   "metadata": {},
   "outputs": [
    {
     "data": {
      "image/png": "[encoded data removed]",
      "text/plain": [
       "<Figure size 720x504 with 1 Axes>"
      ]
     },
     "metadata": {
      "needs_background": "light"
     },
     "output_type": "display_data"
    }
   ],
   "source": [
    "# ROC curve small model\n",
    "plot_roc_curve(\n",
    "    None, \n",
    "    y_true_ind,\n",
    "    y_score_small,\n",
    "    indices,\n",
    "    \"roc_small\",\n",
    "    \"jpg\"\n",
    ")"
   ]
  },
  {
   "cell_type": "code",
   "execution_count": 51,
   "id": "42b0875e-b3ab-48d7-adcb-4ee68e9b1b88",
   "metadata": {},
   "outputs": [
    {
     "data": {
      "image/png": "[encoded data removed]",
      "text/plain": [
       "<Figure size 720x504 with 1 Axes>"
      ]
     },
     "metadata": {
      "needs_background": "light"
     },
     "output_type": "display_data"
    }
   ],
   "source": [
    "# ROC curve larger model\n",
    "plot_roc_curve(\n",
    "    None, \n",
    "    y_true_ind,\n",
    "    y_score_larger,\n",
    "    indices,\n",
    "    \"roc_larger\",\n",
    "    \"jpg\"\n",
    ")"
   ]
  },
  {
   "cell_type": "code",
   "execution_count": null,
   "id": "365114c5-9cce-479b-bd61-f3fa739b0a49",
   "metadata": {},
   "outputs": [],
   "source": []
  },
  {
   "cell_type": "code",
   "execution_count": null,
   "id": "8f73362f-5fad-411c-bf27-8915a58edb74",
   "metadata": {},
   "outputs": [],
   "source": []
  }
 ],
 "metadata": {
  "kernelspec": {
   "display_name": "IPython - genes",
   "language": "python",
   "name": "genes"
  },
  "language_info": {
   "codemirror_mode": {
    "name": "ipython",
    "version": 3
   },
   "file_extension": ".py",
   "mimetype": "text/x-python",
   "name": "python",
   "nbconvert_exporter": "python",
   "pygments_lexer": "ipython3",
   "version": "3.9.9"
  }
 },
 "nbformat": 4,
 "nbformat_minor": 5
}
