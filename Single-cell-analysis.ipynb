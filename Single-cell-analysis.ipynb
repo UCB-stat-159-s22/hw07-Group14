{
 "cells": [
  {
   "cell_type": "markdown",
   "id": "c68c5b23-59b5-46c2-a999-de30945f47f1",
   "metadata": {},
   "source": [
    "# Final Project STAT 259: Single Cell Sequencing Analysis"
   ]
  },
  {
   "cell_type": "code",
   "execution_count": 1,
   "id": "dad68832-674f-4dc6-b025-d6db513b99e2",
   "metadata": {},
   "outputs": [
    {
     "ename": "ModuleNotFoundError",
     "evalue": "No module named 'keras'",
     "output_type": "error",
     "traceback": [
      "\u001b[0;31m---------------------------------------------------------------------------\u001b[0m",
      "\u001b[0;31mModuleNotFoundError\u001b[0m                       Traceback (most recent call last)",
      "Input \u001b[0;32mIn [1]\u001b[0m, in \u001b[0;36m<module>\u001b[0;34m\u001b[0m\n\u001b[1;32m      9\u001b[0m \u001b[38;5;28;01mfrom\u001b[39;00m \u001b[38;5;21;01msklearn\u001b[39;00m\u001b[38;5;21;01m.\u001b[39;00m\u001b[38;5;21;01mmanifold\u001b[39;00m \u001b[38;5;28;01mimport\u001b[39;00m TSNE\n\u001b[1;32m     10\u001b[0m \u001b[38;5;28;01mfrom\u001b[39;00m \u001b[38;5;21;01msklearn\u001b[39;00m\u001b[38;5;21;01m.\u001b[39;00m\u001b[38;5;21;01mpreprocessing\u001b[39;00m \u001b[38;5;28;01mimport\u001b[39;00m StandardScaler\n\u001b[0;32m---> 11\u001b[0m \u001b[38;5;28;01mimport\u001b[39;00m \u001b[38;5;21;01mkeras\u001b[39;00m\n\u001b[1;32m     12\u001b[0m \u001b[38;5;28;01mfrom\u001b[39;00m \u001b[38;5;21;01mkeras\u001b[39;00m \u001b[38;5;28;01mimport\u001b[39;00m layers\n\u001b[1;32m     13\u001b[0m \u001b[38;5;28;01mfrom\u001b[39;00m \u001b[38;5;21;01mkeras\u001b[39;00m \u001b[38;5;28;01mimport\u001b[39;00m regularizers\n",
      "\u001b[0;31mModuleNotFoundError\u001b[0m: No module named 'keras'"
     ]
    }
   ],
   "source": [
    "import pandas as pd\n",
    "import numpy as np\n",
    "import matplotlib.pyplot as plt\n",
    "import seaborn as sns\n",
    "import sklearn.metrics as metrics\n",
    "from sklearn.model_selection import train_test_split\n",
    "from sklearn.model_selection import StratifiedKFold\n",
    "from sklearn.decomposition import PCA\n",
    "from sklearn.manifold import TSNE\n",
    "from sklearn.preprocessing import StandardScaler\n",
    "import keras\n",
    "from keras import layers\n",
    "from keras import regularizers\n",
    "from keras.callbacks import EarlyStopping, ModelCheckpoint, ReduceLROnPlateau\n",
    "from keras.models import save_model, load_model"
   ]
  },
  {
   "cell_type": "markdown",
   "id": "2f07d069-de46-4312-a2a4-80c178dfb7c3",
   "metadata": {},
   "source": [
    "## Read data"
   ]
  },
  {
   "cell_type": "code",
   "execution_count": 86,
   "id": "fdeafe30-62bc-4804-b413-10fa7fb95d24",
   "metadata": {},
   "outputs": [],
   "source": [
    "def setup_data(name):\n",
    "    \"\"\"\n",
    "    ...\n",
    "    \"\"\"\n",
    "    file = f\"data/{name}-counts.csv\"\n",
    "    counts = pd.read_csv(file)\n",
    "    counts.rename(columns={'Unnamed: 0':'index'}, inplace=True)\n",
    "    counts.set_index(\"index\", inplace=True)\n",
    "    counts = counts.T\n",
    "    counts.insert(0, 'cell_label', name)\n",
    "    return counts"
   ]
  },
  {
   "cell_type": "code",
   "execution_count": 90,
   "id": "46adeeef-d393-4474-9036-b9edf2c31399",
   "metadata": {},
   "outputs": [],
   "source": [
    "organs = [\n",
    "    \"Kidney\",\n",
    "    \"Liver\",\n",
    "]"
   ]
  },
  {
   "cell_type": "code",
   "execution_count": 96,
   "id": "0f008627-21a1-4792-8e2f-1cec9cecf8bb",
   "metadata": {},
   "outputs": [],
   "source": [
    "assert len(organs) == 2"
   ]
  },
  {
   "cell_type": "markdown",
   "id": "462cdedf-ef9d-4b80-bf05-c4a3fd9d9761",
   "metadata": {},
   "source": [
    "## Feature filter"
   ]
  },
  {
   "cell_type": "code",
   "execution_count": 91,
   "id": "3ffa700c-3ab8-4805-a6d2-0c1744ed996e",
   "metadata": {},
   "outputs": [
    {
     "data": {
      "text/plain": [
       "(1846, 23434)"
      ]
     },
     "execution_count": 91,
     "metadata": {},
     "output_type": "execute_result"
    }
   ],
   "source": [
    "data = pd.DataFrame()\n",
    "for organ in organs:\n",
    "    data = data.append(setup_data(organ))\n",
    "data.shape"
   ]
  },
  {
   "cell_type": "code",
   "execution_count": 92,
   "id": "88095fbe-2ec2-4dc1-a927-968dfe5c694a",
   "metadata": {},
   "outputs": [
    {
     "data": {
      "text/plain": [
       "(1846, 18471)"
      ]
     },
     "execution_count": 92,
     "metadata": {},
     "output_type": "execute_result"
    }
   ],
   "source": [
    "# Remove gene counts with zero variance\n",
    "std = data.std(axis=0, numeric_only=True)\n",
    "final_features = list(std[std != 0].index)\n",
    "data = data[final_features + [\"cell_label\"]]\n",
    "data.shape"
   ]
  },
  {
   "cell_type": "code",
   "execution_count": 93,
   "id": "3177db82-0caf-4351-abb1-bce6ac8e57d1",
   "metadata": {},
   "outputs": [],
   "source": [
    "std = std[final_features]"
   ]
  },
  {
   "cell_type": "code",
   "execution_count": 94,
   "id": "4ad9ceed-c891-4ca0-96b4-d7ea36cf11b4",
   "metadata": {},
   "outputs": [],
   "source": [
    "mu = data.groupby(data[\"cell_label\"]).mean().T"
   ]
  },
  {
   "cell_type": "code",
   "execution_count": 106,
   "id": "40755b17-821c-4f23-ac19-cb3b524c952e",
   "metadata": {},
   "outputs": [
    {
     "data": {
      "text/plain": [
       "index\n",
       "Sepp1        0.781411\n",
       "Bhmt         0.750014\n",
       "Psen2        0.731537\n",
       "Gnmt         0.722756\n",
       "Cd302        0.717035\n",
       "Cdo1         0.709682\n",
       "Hpd          0.700787\n",
       "Fgl1         0.699458\n",
       "Arg1         0.693576\n",
       "Serpina1b    0.692899\n",
       "Tat          0.687784\n",
       "Serpina1a    0.685803\n",
       "Otc          0.683865\n",
       "Adh1         0.679625\n",
       "Fgb          0.674998\n",
       "Crp          0.672600\n",
       "Hmgcs2       0.671819\n",
       "Apoh         0.670908\n",
       "Fgg          0.670600\n",
       "Apoc3        0.669172\n",
       "dtype: float64"
      ]
     },
     "execution_count": 106,
     "metadata": {},
     "output_type": "execute_result"
    }
   ],
   "source": [
    "score = np.abs((mu[organs[0]] - mu[organs[1]])/std).sort_values(ascending=False)\n",
    "score.head(20)"
   ]
  },
  {
   "cell_type": "code",
   "execution_count": 107,
   "id": "4c9fa7b7-2268-4f92-be71-c65669cd5db6",
   "metadata": {},
   "outputs": [
    {
     "data": {
      "text/plain": [
       "Index(['Sepp1', 'Bhmt', 'Psen2', 'Gnmt', 'Cd302', 'Cdo1', 'Hpd', 'Fgl1',\n",
       "       'Arg1', 'Serpina1b',\n",
       "       ...\n",
       "       'F13b', 'Nop10', 'Alkbh5', 'Dhdh', 'Defb1', 'Aldob', 'Tgds', 'Cml1',\n",
       "       'Mrps24', 'Atf3'],\n",
       "      dtype='object', name='index', length=1000)"
      ]
     },
     "execution_count": 107,
     "metadata": {},
     "output_type": "execute_result"
    }
   ],
   "source": []
  },
  {
   "cell_type": "code",
   "execution_count": 108,
   "id": "7d438780-bc8c-425a-ba6f-30fc8bd0236c",
   "metadata": {},
   "outputs": [
    {
     "data": {
      "text/plain": [
       "(1846, 1001)"
      ]
     },
     "execution_count": 108,
     "metadata": {},
     "output_type": "execute_result"
    }
   ],
   "source": [
    "# Choose subset of gene counts\n",
    "num_genes = 1000\n",
    "selected_features = list(score.iloc[:num_genes].index)\n",
    "data = data[selected_features + [\"cell_label\"]]\n",
    "data.shape"
   ]
  },
  {
   "cell_type": "markdown",
   "id": "b1092948-5281-4ba2-9ca4-980b55554591",
   "metadata": {},
   "source": [
    "## Feature preprocessing"
   ]
  },
  {
   "cell_type": "code",
   "execution_count": 109,
   "id": "80782118-00a6-4560-8cdf-cea3998920d2",
   "metadata": {},
   "outputs": [],
   "source": [
    "data.iloc[:, :-1] = np.log(data.iloc[:,:-1] + 1)"
   ]
  },
  {
   "cell_type": "code",
   "execution_count": 110,
   "id": "32918ec5-898a-4c9e-a7bf-7f4946d064e5",
   "metadata": {},
   "outputs": [],
   "source": [
    "filepath = \"processed_data/data.csv\"\n",
    "data.to_csv(filepath, index=True)"
   ]
  },
  {
   "cell_type": "markdown",
   "id": "97bc47ea-cb1f-4965-8469-892e18ef0327",
   "metadata": {},
   "source": [
    "# Lower-dimension representation of the cells"
   ]
  },
  {
   "cell_type": "code",
   "execution_count": 111,
   "id": "bf2d3d04-f22a-4035-9b09-d891a3554b6e",
   "metadata": {},
   "outputs": [],
   "source": [
    "data = pd.read_csv(filepath, index_col=0)"
   ]
  },
  {
   "cell_type": "code",
   "execution_count": 112,
   "id": "c987f431-9272-4293-b939-39dc9727d2b0",
   "metadata": {},
   "outputs": [
    {
     "data": {
      "text/html": [
       "<div>\n",
       "<style scoped>\n",
       "    .dataframe tbody tr th:only-of-type {\n",
       "        vertical-align: middle;\n",
       "    }\n",
       "\n",
       "    .dataframe tbody tr th {\n",
       "        vertical-align: top;\n",
       "    }\n",
       "\n",
       "    .dataframe thead th {\n",
       "        text-align: right;\n",
       "    }\n",
       "</style>\n",
       "<table border=\"1\" class=\"dataframe\">\n",
       "  <thead>\n",
       "    <tr style=\"text-align: right;\">\n",
       "      <th></th>\n",
       "      <th>Sepp1</th>\n",
       "      <th>Bhmt</th>\n",
       "      <th>Psen2</th>\n",
       "      <th>Gnmt</th>\n",
       "      <th>Cd302</th>\n",
       "      <th>Cdo1</th>\n",
       "      <th>Hpd</th>\n",
       "      <th>Fgl1</th>\n",
       "      <th>Arg1</th>\n",
       "      <th>Serpina1b</th>\n",
       "      <th>...</th>\n",
       "      <th>Nop10</th>\n",
       "      <th>Alkbh5</th>\n",
       "      <th>Dhdh</th>\n",
       "      <th>Defb1</th>\n",
       "      <th>Aldob</th>\n",
       "      <th>Tgds</th>\n",
       "      <th>Cml1</th>\n",
       "      <th>Mrps24</th>\n",
       "      <th>Atf3</th>\n",
       "      <th>cell_label</th>\n",
       "    </tr>\n",
       "  </thead>\n",
       "  <tbody>\n",
       "    <tr>\n",
       "      <th>A14.MAA000545.3_8_M.1.1</th>\n",
       "      <td>5.105945</td>\n",
       "      <td>0.000000</td>\n",
       "      <td>0.000000</td>\n",
       "      <td>0.000000</td>\n",
       "      <td>0.000000</td>\n",
       "      <td>0.000000</td>\n",
       "      <td>0.000000</td>\n",
       "      <td>0.000000</td>\n",
       "      <td>0.000000</td>\n",
       "      <td>0.000000</td>\n",
       "      <td>...</td>\n",
       "      <td>0.000000</td>\n",
       "      <td>1.098612</td>\n",
       "      <td>0.000000</td>\n",
       "      <td>4.356709</td>\n",
       "      <td>0.000000</td>\n",
       "      <td>0.000000</td>\n",
       "      <td>0.000000</td>\n",
       "      <td>0.000000</td>\n",
       "      <td>0.000000</td>\n",
       "      <td>Kidney</td>\n",
       "    </tr>\n",
       "    <tr>\n",
       "      <th>E1.MAA000545.3_8_M.1.1</th>\n",
       "      <td>5.700444</td>\n",
       "      <td>0.000000</td>\n",
       "      <td>0.000000</td>\n",
       "      <td>0.000000</td>\n",
       "      <td>0.000000</td>\n",
       "      <td>0.000000</td>\n",
       "      <td>0.000000</td>\n",
       "      <td>0.000000</td>\n",
       "      <td>0.000000</td>\n",
       "      <td>0.000000</td>\n",
       "      <td>...</td>\n",
       "      <td>0.000000</td>\n",
       "      <td>0.000000</td>\n",
       "      <td>4.875197</td>\n",
       "      <td>0.000000</td>\n",
       "      <td>7.108244</td>\n",
       "      <td>0.000000</td>\n",
       "      <td>0.000000</td>\n",
       "      <td>0.000000</td>\n",
       "      <td>0.693147</td>\n",
       "      <td>Kidney</td>\n",
       "    </tr>\n",
       "    <tr>\n",
       "      <th>M4.MAA000545.3_8_M.1.1</th>\n",
       "      <td>2.639057</td>\n",
       "      <td>0.000000</td>\n",
       "      <td>0.000000</td>\n",
       "      <td>0.000000</td>\n",
       "      <td>0.000000</td>\n",
       "      <td>4.744932</td>\n",
       "      <td>0.000000</td>\n",
       "      <td>0.000000</td>\n",
       "      <td>0.000000</td>\n",
       "      <td>0.000000</td>\n",
       "      <td>...</td>\n",
       "      <td>0.000000</td>\n",
       "      <td>0.000000</td>\n",
       "      <td>0.000000</td>\n",
       "      <td>6.082219</td>\n",
       "      <td>0.000000</td>\n",
       "      <td>0.000000</td>\n",
       "      <td>0.000000</td>\n",
       "      <td>0.000000</td>\n",
       "      <td>0.000000</td>\n",
       "      <td>Kidney</td>\n",
       "    </tr>\n",
       "    <tr>\n",
       "      <th>O21.MAA000545.3_8_M.1.1</th>\n",
       "      <td>0.000000</td>\n",
       "      <td>0.000000</td>\n",
       "      <td>0.000000</td>\n",
       "      <td>0.000000</td>\n",
       "      <td>0.000000</td>\n",
       "      <td>0.000000</td>\n",
       "      <td>0.000000</td>\n",
       "      <td>0.000000</td>\n",
       "      <td>0.000000</td>\n",
       "      <td>0.000000</td>\n",
       "      <td>...</td>\n",
       "      <td>2.890372</td>\n",
       "      <td>0.000000</td>\n",
       "      <td>0.000000</td>\n",
       "      <td>3.526361</td>\n",
       "      <td>0.000000</td>\n",
       "      <td>0.000000</td>\n",
       "      <td>0.000000</td>\n",
       "      <td>0.000000</td>\n",
       "      <td>3.637586</td>\n",
       "      <td>Kidney</td>\n",
       "    </tr>\n",
       "    <tr>\n",
       "      <th>P4.MAA000545.3_8_M.1.1</th>\n",
       "      <td>6.175867</td>\n",
       "      <td>0.000000</td>\n",
       "      <td>0.000000</td>\n",
       "      <td>5.638355</td>\n",
       "      <td>2.639057</td>\n",
       "      <td>0.000000</td>\n",
       "      <td>0.000000</td>\n",
       "      <td>0.000000</td>\n",
       "      <td>0.000000</td>\n",
       "      <td>0.000000</td>\n",
       "      <td>...</td>\n",
       "      <td>0.000000</td>\n",
       "      <td>0.000000</td>\n",
       "      <td>0.000000</td>\n",
       "      <td>0.000000</td>\n",
       "      <td>8.063063</td>\n",
       "      <td>0.000000</td>\n",
       "      <td>0.000000</td>\n",
       "      <td>3.828641</td>\n",
       "      <td>0.000000</td>\n",
       "      <td>Kidney</td>\n",
       "    </tr>\n",
       "    <tr>\n",
       "      <th>...</th>\n",
       "      <td>...</td>\n",
       "      <td>...</td>\n",
       "      <td>...</td>\n",
       "      <td>...</td>\n",
       "      <td>...</td>\n",
       "      <td>...</td>\n",
       "      <td>...</td>\n",
       "      <td>...</td>\n",
       "      <td>...</td>\n",
       "      <td>...</td>\n",
       "      <td>...</td>\n",
       "      <td>...</td>\n",
       "      <td>...</td>\n",
       "      <td>...</td>\n",
       "      <td>...</td>\n",
       "      <td>...</td>\n",
       "      <td>...</td>\n",
       "      <td>...</td>\n",
       "      <td>...</td>\n",
       "      <td>...</td>\n",
       "      <td>...</td>\n",
       "    </tr>\n",
       "    <tr>\n",
       "      <th>C7.MAA100042.3_9_M.1.1</th>\n",
       "      <td>8.939712</td>\n",
       "      <td>7.624131</td>\n",
       "      <td>6.390241</td>\n",
       "      <td>8.744488</td>\n",
       "      <td>6.111467</td>\n",
       "      <td>6.177944</td>\n",
       "      <td>6.447306</td>\n",
       "      <td>4.836282</td>\n",
       "      <td>7.880426</td>\n",
       "      <td>9.179572</td>\n",
       "      <td>...</td>\n",
       "      <td>6.016157</td>\n",
       "      <td>3.135494</td>\n",
       "      <td>0.000000</td>\n",
       "      <td>0.000000</td>\n",
       "      <td>9.200795</td>\n",
       "      <td>4.110874</td>\n",
       "      <td>7.949797</td>\n",
       "      <td>5.572154</td>\n",
       "      <td>5.648974</td>\n",
       "      <td>Liver</td>\n",
       "    </tr>\n",
       "    <tr>\n",
       "      <th>A9.MAA100042.3_9_M.1.1</th>\n",
       "      <td>8.275631</td>\n",
       "      <td>7.848153</td>\n",
       "      <td>5.159055</td>\n",
       "      <td>8.014997</td>\n",
       "      <td>5.968708</td>\n",
       "      <td>4.454347</td>\n",
       "      <td>7.652071</td>\n",
       "      <td>3.496508</td>\n",
       "      <td>7.091742</td>\n",
       "      <td>8.744488</td>\n",
       "      <td>...</td>\n",
       "      <td>4.905275</td>\n",
       "      <td>3.332205</td>\n",
       "      <td>5.433722</td>\n",
       "      <td>0.000000</td>\n",
       "      <td>7.918629</td>\n",
       "      <td>0.693147</td>\n",
       "      <td>4.406719</td>\n",
       "      <td>5.978886</td>\n",
       "      <td>0.000000</td>\n",
       "      <td>Liver</td>\n",
       "    </tr>\n",
       "    <tr>\n",
       "      <th>C9.MAA100042.3_9_M.1.1</th>\n",
       "      <td>7.838738</td>\n",
       "      <td>7.412764</td>\n",
       "      <td>5.298317</td>\n",
       "      <td>7.422971</td>\n",
       "      <td>5.648974</td>\n",
       "      <td>6.700731</td>\n",
       "      <td>7.513164</td>\n",
       "      <td>5.117994</td>\n",
       "      <td>5.762051</td>\n",
       "      <td>7.859413</td>\n",
       "      <td>...</td>\n",
       "      <td>4.553877</td>\n",
       "      <td>1.945910</td>\n",
       "      <td>2.995732</td>\n",
       "      <td>0.000000</td>\n",
       "      <td>7.664347</td>\n",
       "      <td>3.828641</td>\n",
       "      <td>5.241747</td>\n",
       "      <td>4.905275</td>\n",
       "      <td>1.609438</td>\n",
       "      <td>Liver</td>\n",
       "    </tr>\n",
       "    <tr>\n",
       "      <th>A10.MAA100042.3_9_M.1.1</th>\n",
       "      <td>0.000000</td>\n",
       "      <td>0.000000</td>\n",
       "      <td>0.693147</td>\n",
       "      <td>0.000000</td>\n",
       "      <td>0.000000</td>\n",
       "      <td>1.098612</td>\n",
       "      <td>0.000000</td>\n",
       "      <td>0.693147</td>\n",
       "      <td>0.693147</td>\n",
       "      <td>1.791759</td>\n",
       "      <td>...</td>\n",
       "      <td>0.693147</td>\n",
       "      <td>0.000000</td>\n",
       "      <td>0.000000</td>\n",
       "      <td>0.000000</td>\n",
       "      <td>1.945910</td>\n",
       "      <td>0.000000</td>\n",
       "      <td>0.000000</td>\n",
       "      <td>0.000000</td>\n",
       "      <td>0.000000</td>\n",
       "      <td>Liver</td>\n",
       "    </tr>\n",
       "    <tr>\n",
       "      <th>C10.MAA100042.3_9_M.1.1</th>\n",
       "      <td>0.693147</td>\n",
       "      <td>0.000000</td>\n",
       "      <td>0.000000</td>\n",
       "      <td>0.000000</td>\n",
       "      <td>0.000000</td>\n",
       "      <td>0.000000</td>\n",
       "      <td>0.000000</td>\n",
       "      <td>0.693147</td>\n",
       "      <td>0.000000</td>\n",
       "      <td>0.000000</td>\n",
       "      <td>...</td>\n",
       "      <td>0.000000</td>\n",
       "      <td>0.000000</td>\n",
       "      <td>0.000000</td>\n",
       "      <td>0.000000</td>\n",
       "      <td>0.000000</td>\n",
       "      <td>0.000000</td>\n",
       "      <td>0.000000</td>\n",
       "      <td>0.000000</td>\n",
       "      <td>0.000000</td>\n",
       "      <td>Liver</td>\n",
       "    </tr>\n",
       "  </tbody>\n",
       "</table>\n",
       "<p>1846 rows × 1001 columns</p>\n",
       "</div>"
      ],
      "text/plain": [
       "                            Sepp1      Bhmt     Psen2      Gnmt     Cd302  \\\n",
       "A14.MAA000545.3_8_M.1.1  5.105945  0.000000  0.000000  0.000000  0.000000   \n",
       "E1.MAA000545.3_8_M.1.1   5.700444  0.000000  0.000000  0.000000  0.000000   \n",
       "M4.MAA000545.3_8_M.1.1   2.639057  0.000000  0.000000  0.000000  0.000000   \n",
       "O21.MAA000545.3_8_M.1.1  0.000000  0.000000  0.000000  0.000000  0.000000   \n",
       "P4.MAA000545.3_8_M.1.1   6.175867  0.000000  0.000000  5.638355  2.639057   \n",
       "...                           ...       ...       ...       ...       ...   \n",
       "C7.MAA100042.3_9_M.1.1   8.939712  7.624131  6.390241  8.744488  6.111467   \n",
       "A9.MAA100042.3_9_M.1.1   8.275631  7.848153  5.159055  8.014997  5.968708   \n",
       "C9.MAA100042.3_9_M.1.1   7.838738  7.412764  5.298317  7.422971  5.648974   \n",
       "A10.MAA100042.3_9_M.1.1  0.000000  0.000000  0.693147  0.000000  0.000000   \n",
       "C10.MAA100042.3_9_M.1.1  0.693147  0.000000  0.000000  0.000000  0.000000   \n",
       "\n",
       "                             Cdo1       Hpd      Fgl1      Arg1  Serpina1b  \\\n",
       "A14.MAA000545.3_8_M.1.1  0.000000  0.000000  0.000000  0.000000   0.000000   \n",
       "E1.MAA000545.3_8_M.1.1   0.000000  0.000000  0.000000  0.000000   0.000000   \n",
       "M4.MAA000545.3_8_M.1.1   4.744932  0.000000  0.000000  0.000000   0.000000   \n",
       "O21.MAA000545.3_8_M.1.1  0.000000  0.000000  0.000000  0.000000   0.000000   \n",
       "P4.MAA000545.3_8_M.1.1   0.000000  0.000000  0.000000  0.000000   0.000000   \n",
       "...                           ...       ...       ...       ...        ...   \n",
       "C7.MAA100042.3_9_M.1.1   6.177944  6.447306  4.836282  7.880426   9.179572   \n",
       "A9.MAA100042.3_9_M.1.1   4.454347  7.652071  3.496508  7.091742   8.744488   \n",
       "C9.MAA100042.3_9_M.1.1   6.700731  7.513164  5.117994  5.762051   7.859413   \n",
       "A10.MAA100042.3_9_M.1.1  1.098612  0.000000  0.693147  0.693147   1.791759   \n",
       "C10.MAA100042.3_9_M.1.1  0.000000  0.000000  0.693147  0.000000   0.000000   \n",
       "\n",
       "                         ...     Nop10    Alkbh5      Dhdh     Defb1  \\\n",
       "A14.MAA000545.3_8_M.1.1  ...  0.000000  1.098612  0.000000  4.356709   \n",
       "E1.MAA000545.3_8_M.1.1   ...  0.000000  0.000000  4.875197  0.000000   \n",
       "M4.MAA000545.3_8_M.1.1   ...  0.000000  0.000000  0.000000  6.082219   \n",
       "O21.MAA000545.3_8_M.1.1  ...  2.890372  0.000000  0.000000  3.526361   \n",
       "P4.MAA000545.3_8_M.1.1   ...  0.000000  0.000000  0.000000  0.000000   \n",
       "...                      ...       ...       ...       ...       ...   \n",
       "C7.MAA100042.3_9_M.1.1   ...  6.016157  3.135494  0.000000  0.000000   \n",
       "A9.MAA100042.3_9_M.1.1   ...  4.905275  3.332205  5.433722  0.000000   \n",
       "C9.MAA100042.3_9_M.1.1   ...  4.553877  1.945910  2.995732  0.000000   \n",
       "A10.MAA100042.3_9_M.1.1  ...  0.693147  0.000000  0.000000  0.000000   \n",
       "C10.MAA100042.3_9_M.1.1  ...  0.000000  0.000000  0.000000  0.000000   \n",
       "\n",
       "                            Aldob      Tgds      Cml1    Mrps24      Atf3  \\\n",
       "A14.MAA000545.3_8_M.1.1  0.000000  0.000000  0.000000  0.000000  0.000000   \n",
       "E1.MAA000545.3_8_M.1.1   7.108244  0.000000  0.000000  0.000000  0.693147   \n",
       "M4.MAA000545.3_8_M.1.1   0.000000  0.000000  0.000000  0.000000  0.000000   \n",
       "O21.MAA000545.3_8_M.1.1  0.000000  0.000000  0.000000  0.000000  3.637586   \n",
       "P4.MAA000545.3_8_M.1.1   8.063063  0.000000  0.000000  3.828641  0.000000   \n",
       "...                           ...       ...       ...       ...       ...   \n",
       "C7.MAA100042.3_9_M.1.1   9.200795  4.110874  7.949797  5.572154  5.648974   \n",
       "A9.MAA100042.3_9_M.1.1   7.918629  0.693147  4.406719  5.978886  0.000000   \n",
       "C9.MAA100042.3_9_M.1.1   7.664347  3.828641  5.241747  4.905275  1.609438   \n",
       "A10.MAA100042.3_9_M.1.1  1.945910  0.000000  0.000000  0.000000  0.000000   \n",
       "C10.MAA100042.3_9_M.1.1  0.000000  0.000000  0.000000  0.000000  0.000000   \n",
       "\n",
       "                         cell_label  \n",
       "A14.MAA000545.3_8_M.1.1      Kidney  \n",
       "E1.MAA000545.3_8_M.1.1       Kidney  \n",
       "M4.MAA000545.3_8_M.1.1       Kidney  \n",
       "O21.MAA000545.3_8_M.1.1      Kidney  \n",
       "P4.MAA000545.3_8_M.1.1       Kidney  \n",
       "...                             ...  \n",
       "C7.MAA100042.3_9_M.1.1        Liver  \n",
       "A9.MAA100042.3_9_M.1.1        Liver  \n",
       "C9.MAA100042.3_9_M.1.1        Liver  \n",
       "A10.MAA100042.3_9_M.1.1       Liver  \n",
       "C10.MAA100042.3_9_M.1.1       Liver  \n",
       "\n",
       "[1846 rows x 1001 columns]"
      ]
     },
     "execution_count": 112,
     "metadata": {},
     "output_type": "execute_result"
    }
   ],
   "source": [
    "data"
   ]
  },
  {
   "cell_type": "code",
   "execution_count": 113,
   "id": "144be133-261d-4d5d-a479-fdc51002c52e",
   "metadata": {},
   "outputs": [],
   "source": [
    "x = data.iloc[:, :-1]\n",
    "y = data.iloc[:, -1]"
   ]
  },
  {
   "cell_type": "code",
   "execution_count": 114,
   "id": "58f4d3b2-6c18-49f7-adca-45411ad6cb48",
   "metadata": {},
   "outputs": [
    {
     "data": {
      "text/html": [
       "<div>\n",
       "<style scoped>\n",
       "    .dataframe tbody tr th:only-of-type {\n",
       "        vertical-align: middle;\n",
       "    }\n",
       "\n",
       "    .dataframe tbody tr th {\n",
       "        vertical-align: top;\n",
       "    }\n",
       "\n",
       "    .dataframe thead th {\n",
       "        text-align: right;\n",
       "    }\n",
       "</style>\n",
       "<table border=\"1\" class=\"dataframe\">\n",
       "  <thead>\n",
       "    <tr style=\"text-align: right;\">\n",
       "      <th></th>\n",
       "      <th>Liver</th>\n",
       "      <th>Kidney</th>\n",
       "    </tr>\n",
       "  </thead>\n",
       "  <tbody>\n",
       "    <tr>\n",
       "      <th>A14.MAA000545.3_8_M.1.1</th>\n",
       "      <td>0</td>\n",
       "      <td>1</td>\n",
       "    </tr>\n",
       "    <tr>\n",
       "      <th>E1.MAA000545.3_8_M.1.1</th>\n",
       "      <td>0</td>\n",
       "      <td>1</td>\n",
       "    </tr>\n",
       "    <tr>\n",
       "      <th>M4.MAA000545.3_8_M.1.1</th>\n",
       "      <td>0</td>\n",
       "      <td>1</td>\n",
       "    </tr>\n",
       "    <tr>\n",
       "      <th>O21.MAA000545.3_8_M.1.1</th>\n",
       "      <td>0</td>\n",
       "      <td>1</td>\n",
       "    </tr>\n",
       "    <tr>\n",
       "      <th>P4.MAA000545.3_8_M.1.1</th>\n",
       "      <td>0</td>\n",
       "      <td>1</td>\n",
       "    </tr>\n",
       "  </tbody>\n",
       "</table>\n",
       "</div>"
      ],
      "text/plain": [
       "                         Liver  Kidney\n",
       "A14.MAA000545.3_8_M.1.1      0       1\n",
       "E1.MAA000545.3_8_M.1.1       0       1\n",
       "M4.MAA000545.3_8_M.1.1       0       1\n",
       "O21.MAA000545.3_8_M.1.1      0       1\n",
       "P4.MAA000545.3_8_M.1.1       0       1"
      ]
     },
     "execution_count": 114,
     "metadata": {},
     "output_type": "execute_result"
    }
   ],
   "source": [
    "# One hot encoding of y labels\n",
    "# Order chosen by proportions in sample and kept in y_labels\n",
    "y_hot = pd.get_dummies(y)\n",
    "y_labels = y_hot.mean(axis=0).sort_values(ascending=False).index\n",
    "y_hot = y_hot[y_labels]\n",
    "y_hot.head()"
   ]
  },
  {
   "cell_type": "code",
   "execution_count": 115,
   "id": "159ae403-2e51-4d6e-ab11-76ca8b6a946e",
   "metadata": {},
   "outputs": [],
   "source": [
    "# 80:20 split shuffling data\n",
    "x_train, x_test, y_train, y_test = train_test_split(x, y_hot, test_size=0.2, random_state=42, shuffle=True, stratify=y)"
   ]
  },
  {
   "cell_type": "code",
   "execution_count": 116,
   "id": "0453dcb2-4e5a-4ba8-b5bd-4eabba366cd7",
   "metadata": {},
   "outputs": [
    {
     "data": {
      "text/plain": [
       "((1846, 1000), (1476, 1000), (370, 1000))"
      ]
     },
     "execution_count": 116,
     "metadata": {},
     "output_type": "execute_result"
    }
   ],
   "source": [
    "# Shape validation for x\n",
    "x.shape, x_train.shape, x_test.shape"
   ]
  },
  {
   "cell_type": "code",
   "execution_count": 117,
   "id": "bca02ec2-e136-4bdc-b1d6-8af14ea1d6fe",
   "metadata": {},
   "outputs": [
    {
     "data": {
      "text/plain": [
       "((1846,), (1476, 2), (370, 2))"
      ]
     },
     "execution_count": 117,
     "metadata": {},
     "output_type": "execute_result"
    }
   ],
   "source": [
    "# Shape validation for y\n",
    "y.shape, y_train.shape, y_test.shape"
   ]
  },
  {
   "cell_type": "markdown",
   "id": "be911491-2e48-4d47-a4ad-a8191537c0a4",
   "metadata": {},
   "source": [
    "## Autoencoder"
   ]
  },
  {
   "cell_type": "code",
   "execution_count": 118,
   "id": "038913cb-216f-42ca-abbc-9393aa29ca47",
   "metadata": {},
   "outputs": [
    {
     "name": "stdout",
     "output_type": "stream",
     "text": [
      "Model: \"model_6\"\n",
      "_________________________________________________________________\n",
      " Layer (type)                Output Shape              Param #   \n",
      "=================================================================\n",
      " input_5 (InputLayer)        [(None, 1000)]            0         \n",
      "                                                                 \n",
      " dropout_16 (Dropout)        (None, 1000)              0         \n",
      "                                                                 \n",
      " dense_16 (Dense)            (None, 128)               128128    \n",
      "                                                                 \n",
      " dropout_17 (Dropout)        (None, 128)               0         \n",
      "                                                                 \n",
      " dense_17 (Dense)            (None, 32)                4128      \n",
      "                                                                 \n",
      " dropout_18 (Dropout)        (None, 32)                0         \n",
      "                                                                 \n",
      " dense_18 (Dense)            (None, 128)               4224      \n",
      "                                                                 \n",
      " dropout_19 (Dropout)        (None, 128)               0         \n",
      "                                                                 \n",
      " dense_19 (Dense)            (None, 1000)              129000    \n",
      "                                                                 \n",
      "=================================================================\n",
      "Total params: 265,480\n",
      "Trainable params: 265,480\n",
      "Non-trainable params: 0\n",
      "_________________________________________________________________\n"
     ]
    }
   ],
   "source": [
    "# Latent space of 32 dimensions\n",
    "# 1 hidden layer for encoder and one for decoder\n",
    "# L1 regularization used in fully connected layers\n",
    "# Encoder will be defined later after training\n",
    "\n",
    "encoding_dim = 32\n",
    "input_dim = x.shape[1]\n",
    "\n",
    "input_obj = keras.Input(shape=(input_dim,))\n",
    "dropout1 = layers.Dropout(.2)(input_obj)\n",
    "hidden1 = layers.Dense(128, activation='relu', \n",
    "                       activity_regularizer=regularizers.l1(10e-5))(dropout1)\n",
    "dropout2 = layers.Dropout(.2)(hidden1)\n",
    "encoded = layers.Dense(encoding_dim, activation='relu', \n",
    "                       activity_regularizer=regularizers.l1(10e-5))(dropout2)\n",
    "dropout3 = layers.Dropout(.2)(encoded)\n",
    "hidden2 = layers.Dense(128, activation='relu')(dropout3)\n",
    "dropout4 = layers.Dropout(.2)(hidden2)\n",
    "decoded = layers.Dense(input_dim, activation='sigmoid')(dropout4)\n",
    "\n",
    "autoencoder = keras.Model(input_obj, decoded)\n",
    "autoencoder.summary()"
   ]
  },
  {
   "cell_type": "code",
   "execution_count": 119,
   "id": "13de7127-aba5-42a1-9982-39a49eb03fe7",
   "metadata": {},
   "outputs": [],
   "source": [
    "# Configurations for improving training with the aim to reduce over-fitting \n",
    "# and also allow to seek for a lower bias model.\n",
    "# Reference: https://stackoverflow.com/questions/48285129/saving-best-model-in-keras\n",
    "earlyStopping = EarlyStopping(monitor='val_loss', patience=20, verbose=0, mode='min')\n",
    "mcp_save = ModelCheckpoint('models/autoencoder_best.hdf5', save_best_only=True, monitor='val_loss', mode='min')\n",
    "reduce_lr_loss = ReduceLROnPlateau(monitor='val_loss', factor=0.5, patience=10, verbose=0, min_delta=1e-4, mode='min')"
   ]
  },
  {
   "cell_type": "code",
   "execution_count": 120,
   "id": "8232757d-c56e-470e-97e3-cd5c1ad740b9",
   "metadata": {},
   "outputs": [
    {
     "data": {
      "text/plain": [
       "<keras.callbacks.History at 0x7ff3a5b5e100>"
      ]
     },
     "execution_count": 120,
     "metadata": {},
     "output_type": "execute_result"
    }
   ],
   "source": [
    "# Used MSE as loss\n",
    "autoencoder.compile(optimizer='adam', loss='mean_squared_error')\n",
    "\n",
    "autoencoder.fit(\n",
    "    x_train, x_train,\n",
    "    epochs=500,\n",
    "    batch_size=256,\n",
    "    shuffle=True,\n",
    "    validation_data=(x_test, x_test),\n",
    "    callbacks=[earlyStopping, mcp_save, reduce_lr_loss],\n",
    "    verbose=0,\n",
    ")"
   ]
  },
  {
   "cell_type": "code",
   "execution_count": 121,
   "id": "befd17a4-1c5d-412a-8357-5b91d6fa859d",
   "metadata": {},
   "outputs": [],
   "source": [
    "# Load best\n",
    "autoencoder = load_model('models/autoencoder_best.hdf5', compile=False)\n",
    "autoencoder.compile(optimizer='adam', loss='mean_squared_error')"
   ]
  },
  {
   "cell_type": "code",
   "execution_count": 122,
   "id": "7b32948e-5d42-4c66-bcbb-da2a16fa855d",
   "metadata": {},
   "outputs": [
    {
     "name": "stdout",
     "output_type": "stream",
     "text": [
      "12/12 [==============================] - 0s 11ms/step - loss: 4.7319\n"
     ]
    },
    {
     "data": {
      "text/plain": [
       "4.731887340545654"
      ]
     },
     "execution_count": 122,
     "metadata": {},
     "output_type": "execute_result"
    }
   ],
   "source": [
    "# Evaluate autoencoder performance\n",
    "autoencoder.evaluate(x_test, x_test)"
   ]
  },
  {
   "cell_type": "code",
   "execution_count": 123,
   "id": "b23ba8e0-fd14-494c-ac70-662dbaed7e4f",
   "metadata": {},
   "outputs": [
    {
     "name": "stdout",
     "output_type": "stream",
     "text": [
      "Model: \"model_7\"\n",
      "_________________________________________________________________\n",
      " Layer (type)                Output Shape              Param #   \n",
      "=================================================================\n",
      " input_5 (InputLayer)        [(None, 1000)]            0         \n",
      "                                                                 \n",
      " dropout_16 (Dropout)        (None, 1000)              0         \n",
      "                                                                 \n",
      " dense_16 (Dense)            (None, 128)               128128    \n",
      "                                                                 \n",
      " dropout_17 (Dropout)        (None, 128)               0         \n",
      "                                                                 \n",
      " dense_17 (Dense)            (None, 32)                4128      \n",
      "                                                                 \n",
      "=================================================================\n",
      "Total params: 132,256\n",
      "Trainable params: 132,256\n",
      "Non-trainable params: 0\n",
      "_________________________________________________________________\n"
     ]
    }
   ],
   "source": [
    "# Encoder\n",
    "encoder_output = autoencoder.layers[4].output\n",
    "encoder_input = autoencoder.input\n",
    "encoder = keras.Model(encoder_input, encoder_output)\n",
    "encoder.summary()"
   ]
  },
  {
   "cell_type": "code",
   "execution_count": 124,
   "id": "58acc1f1-9887-4805-8750-6e81b323de30",
   "metadata": {},
   "outputs": [],
   "source": [
    "# Save model\n",
    "encoder.compile(optimizer='adam', loss='mean_squared_error')\n",
    "save_model(encoder, 'models/encoder_best.hdf5', save_format='hdf5')"
   ]
  },
  {
   "cell_type": "code",
   "execution_count": 125,
   "id": "861dae0c-e7f5-4c14-a524-d4f7dbc254c7",
   "metadata": {},
   "outputs": [],
   "source": [
    "# PCA\n",
    "pca32 = PCA(n_components=32)\n",
    "x_pca = pca32.fit_transform(x)"
   ]
  },
  {
   "cell_type": "code",
   "execution_count": 126,
   "id": "42c78777-5217-474f-bde1-d8dc484d1040",
   "metadata": {},
   "outputs": [],
   "source": [
    "# t-SNE\n",
    "tsne2 = TSNE(n_components=2, learning_rate=200, init='random', method='exact')\n",
    "x_tsne2 = tsne2.fit_transform(x_pca)"
   ]
  },
  {
   "cell_type": "code",
   "execution_count": 127,
   "id": "5287e0ee-fc82-4078-9f05-60099aca001a",
   "metadata": {},
   "outputs": [
    {
     "data": {
      "text/plain": [
       "(1846, 32)"
      ]
     },
     "execution_count": 127,
     "metadata": {},
     "output_type": "execute_result"
    }
   ],
   "source": [
    "# Encoder used to get input data's latent variables\n",
    "x_encoded = encoder.predict(x)\n",
    "x_encoded.shape"
   ]
  },
  {
   "cell_type": "code",
   "execution_count": 128,
   "id": "feb4bed6-e0c5-4a1a-89be-d871304922d7",
   "metadata": {},
   "outputs": [],
   "source": [
    "# Encoder to 32 dim, then t-SNE to 2 dim\n",
    "x_encoded_tsne2 = tsne2.fit_transform(x_encoded)"
   ]
  },
  {
   "cell_type": "code",
   "execution_count": 134,
   "id": "ec789f89-ad8a-4ae8-8461-c477890da28c",
   "metadata": {},
   "outputs": [
    {
     "data": {
      "image/png": "[encoded data removed]",
      "text/plain": [
       "<Figure size 864x432 with 2 Axes>"
      ]
     },
     "metadata": {
      "needs_background": "light"
     },
     "output_type": "display_data"
    }
   ],
   "source": [
    "# Plot 2D representations\n",
    "ncols = 2\n",
    "fig, ax = plt.subplots(1, ncols, figsize=(12, 6))\n",
    "\n",
    "x_dict = {\n",
    "    'PCA': x_pca[:, :2],\n",
    "    #'t-SNE': x_tsne2,\n",
    "    'Autoencoder to 32 dim,\\nthen t-SNE to 2 dim': x_encoded_tsne2,\n",
    "}\n",
    "\n",
    "n = len(x_dict)\n",
    "\n",
    "for i, (title, x_plot) in enumerate(x_dict.items()):\n",
    "\n",
    "    col = i\n",
    "    ax_i = ax[col]\n",
    "\n",
    "    sns.scatterplot(\n",
    "        x=x_plot[:,0], y=x_plot[:,1],\n",
    "        hue=y,\n",
    "        palette=sns.color_palette(\"hls\", 2),\n",
    "        legend=\"full\",\n",
    "        alpha=0.75,\n",
    "        ax=ax_i)\n",
    "    if i == n - 1:\n",
    "        handles, labels = ax_i.get_legend_handles_labels()\n",
    "    ax_i.get_legend().remove()\n",
    "    ax_i.set_title(title)\n",
    "    ax_i.set_xlabel('Component 1')\n",
    "    if col == 0:\n",
    "        ax_i.set_ylabel('Component 2')\n",
    "\n",
    "fig.legend(handles, labels, bbox_to_anchor=(0.9, 0.4), loc='lower center', ncol=1)\n",
    "fig.tight_layout()\n",
    "fig.subplots_adjust(right=0.8)\n",
    "\n",
    "plt.savefig('figures/projection.jpg', format='jpg')\n",
    "plt.show()"
   ]
  },
  {
   "cell_type": "code",
   "execution_count": null,
   "id": "afa1b715-051c-4a25-a178-01cbdcebb877",
   "metadata": {},
   "outputs": [],
   "source": []
  },
  {
   "cell_type": "code",
   "execution_count": null,
   "id": "f51eb997-adb1-405a-9c69-0fcbb7de62e2",
   "metadata": {},
   "outputs": [],
   "source": []
  },
  {
   "cell_type": "code",
   "execution_count": null,
   "id": "e829235d-a425-4599-960c-ee6aaa85a766",
   "metadata": {},
   "outputs": [],
   "source": []
  },
  {
   "cell_type": "code",
   "execution_count": null,
   "id": "d7cdedee-265d-41db-94d6-3ea4e6c0e679",
   "metadata": {},
   "outputs": [],
   "source": []
  },
  {
   "cell_type": "code",
   "execution_count": null,
   "id": "a37569d2-1e38-4d30-a9c8-9f5d35d40263",
   "metadata": {},
   "outputs": [],
   "source": []
  }
 ],
 "metadata": {
  "kernelspec": {
   "display_name": "IPython - gene",
   "language": "python",
   "name": "genes"
  },
  "language_info": {
   "codemirror_mode": {
    "name": "ipython",
    "version": 3
   },
   "file_extension": ".py",
   "mimetype": "text/x-python",
   "name": "python",
   "nbconvert_exporter": "python",
   "pygments_lexer": "ipython3",
   "version": "3.9.9"
  }
 },
 "nbformat": 4,
 "nbformat_minor": 5
}
